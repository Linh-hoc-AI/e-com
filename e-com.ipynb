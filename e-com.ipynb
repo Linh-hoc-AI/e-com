{
 "cells": [
  {
   "cell_type": "markdown",
   "metadata": {},
   "source": [
    "<img src=./fig/fig1.png>"
   ]
  },
  {
   "cell_type": "code",
   "execution_count": 1,
   "metadata": {
    "id": "yghSQDzpkQFJ"
   },
   "outputs": [
    {
     "name": "stderr",
     "output_type": "stream",
     "text": [
      "/home/nhatlinh/.venv/lib/python3.12/site-packages/tqdm/auto.py:21: TqdmWarning: IProgress not found. Please update jupyter and ipywidgets. See https://ipywidgets.readthedocs.io/en/stable/user_install.html\n",
      "  from .autonotebook import tqdm as notebook_tqdm\n"
     ]
    }
   ],
   "source": [
    "import torch\n",
    "import torch.nn as nn\n",
    "import torch.optim as optim\n",
    "import torchvision.transforms as T\n",
    "from torch.utils.data import Dataset, DataLoader\n",
    "\n",
    "import matplotlib.pyplot as plt\n",
    "import numpy as np\n",
    "import pandas as pd\n",
    "from PIL import Image, ImageOps\n",
    "from tqdm import tqdm\n",
    "import random\n",
    "\n",
    "import time\n",
    "import os\n",
    "\n",
    "from pyvi import ViTokenizer\n",
    "from transformers import AutoTokenizer\n",
    "\n",
    "import warnings\n",
    "warnings.filterwarnings('ignore')"
   ]
  },
  {
   "cell_type": "code",
   "execution_count": 2,
   "metadata": {},
   "outputs": [],
   "source": [
    "def set_seeds():\n",
    "    # fix random seeds\n",
    "    SEED_VALUE = 2025\n",
    " \n",
    "    random.seed(SEED_VALUE)\n",
    "    np.random.seed(SEED_VALUE)\n",
    "    torch.manual_seed(SEED_VALUE)\n",
    " \n",
    "    if torch.cuda.is_available():\n",
    "        torch.cuda.manual_seed(SEED_VALUE)\n",
    "        torch.cuda.manual_seed_all(SEED_VALUE)\n",
    "        torch.backends.cudnn.deterministic = True\n",
    "        torch.backends.cudnn.benchmark = True\n",
    "set_seeds()"
   ]
  },
  {
   "cell_type": "markdown",
   "metadata": {
    "id": "YEvN7XBHlG9W"
   },
   "source": [
    "### transformer encoder"
   ]
  },
  {
   "cell_type": "code",
   "execution_count": 3,
   "metadata": {
    "id": "VyFD4jlolZLj"
   },
   "outputs": [],
   "source": [
    "class TransformerEncoder(nn.Module):\n",
    "  def __init__(self, d_model, n_heads, mlp_ratio =4):\n",
    "      super().__init__()\n",
    "\n",
    "      self.d_model = d_model\n",
    "      self.n_heads = n_heads\n",
    "\n",
    "      self.ln1 = nn.LayerNorm(d_model)\n",
    "\n",
    "      self.mha = MultiheadAttention(d_model, n_heads)\n",
    "\n",
    "      self.ln2 = nn.LayerNorm(d_model)\n",
    "\n",
    "      self.mlp = nn.Sequential(\n",
    "          nn.Linear(d_model, d_model*mlp_ratio),\n",
    "          nn.GELU(),\n",
    "          nn.Linear(d_model * mlp_ratio, d_model)\n",
    "      )\n",
    "\n",
    "  def forward(self, x, mask = None):\n",
    "\n",
    "      x_n = self.mha(self.ln1(x), mask = mask)\n",
    "      x = x + self.mlp(self.ln2(x_n))\n",
    "\n",
    "      return x  # [B,max_seq_len,d_model]"
   ]
  },
  {
   "cell_type": "markdown",
   "metadata": {
    "id": "sFSjSqnXtcQM"
   },
   "source": [
    "### multi head attention"
   ]
  },
  {
   "cell_type": "code",
   "execution_count": 4,
   "metadata": {
    "id": "gw5vjnEFtftk"
   },
   "outputs": [],
   "source": [
    "class MultiheadAttention(nn.Module):\n",
    "  def __init__(self, d_model, n_heads):\n",
    "      super().__init__()\n",
    "\n",
    "      self.qkv_dim = d_model //  n_heads \n",
    "\n",
    "      self.W_o = nn.Linear(d_model,d_model) \n",
    "\n",
    "      self.multi_head = nn.ModuleList([AttentionHead(d_model, self.qkv_dim) for _ in range(n_heads)])\n",
    "\n",
    "  def forward(self,x,mask = None):\n",
    "\n",
    "      out = torch.cat([head(x, mask=mask) for head in self.multi_head], dim = -1)\n",
    "\n",
    "      out = self.W_o(out)\n",
    "\n",
    "      return out"
   ]
  },
  {
   "cell_type": "markdown",
   "metadata": {
    "id": "v_6VCBGAz2BW"
   },
   "source": [
    "### attention head"
   ]
  },
  {
   "cell_type": "code",
   "execution_count": 5,
   "metadata": {
    "id": "arJSfYpUz5u3"
   },
   "outputs": [],
   "source": [
    "class AttentionHead(nn.Module):\n",
    "    def __init__(self, d_model, qkv_dim):\n",
    "        super().__init__()\n",
    "\n",
    "        self.qkv_dim = qkv_dim\n",
    "\n",
    "        self.query = nn.Linear(d_model, qkv_dim)\n",
    "        self.key = nn.Linear(d_model, qkv_dim)\n",
    "        self.value = nn.Linear(d_model, qkv_dim)\n",
    "\n",
    "    def forward(self, x, mask=None):\n",
    "\n",
    "        Q = self.query(x)  \n",
    "        K = self.key(x)      \n",
    "        V = self.value(x)    \n",
    "\n",
    "        if torch.isnan(Q).any() or torch.isnan(K).any() or torch.isnan(V).any():\n",
    "            raise ValueError(\"NaN detected in Q, K, or V\")\n",
    "        if torch.isinf(Q).any() or torch.isinf(K).any() or torch.isinf(V).any():\n",
    "            raise ValueError(\"Inf detected in Q, K, or V\")\n",
    "\n",
    "        attention = Q @ K.transpose(-2, -1)  # [B, max_seq_len, max_seq_len]\n",
    "        \n",
    "        # scaling\n",
    "        if self.qkv_dim <= 0:\n",
    "            raise ValueError(\"qkv_dim must be positive to avoid division by zero\")\n",
    "        attention = attention / self.qkv_dim ** 0.5  # [B, max_seq_len, max_seq_len]\n",
    "\n",
    "        if torch.isnan(attention).any() or torch.isinf(attention).any():\n",
    "            raise ValueError(\"NaN or Inf detected in attention scores\")\n",
    "\n",
    "        if mask is not None:\n",
    "            # mask.shape: [B, max_seq_len]\n",
    "            # expand mask to [B, max_seq_len, max_seq_len]\n",
    "            mask = mask.unsqueeze(2)  # [B, max_seq_len, 1]\n",
    "            mask = mask.expand(-1, -1, mask.size(1))  # [B, max_seq_len, max_seq_len]\n",
    "            attention = attention.masked_fill(mask == 0, float(\"-inf\"))\n",
    "\n",
    "            all_inf = torch.all(attention == float(\"-inf\"), dim=-1, keepdim=True)\n",
    "            attention = attention.masked_fill(all_inf, 0.0)  \n",
    "\n",
    "        attention = torch.softmax(attention, dim=-1)  # [B, max_seq_len, max_seq_len]\n",
    "\n",
    "        if torch.isnan(attention).any():\n",
    "            raise ValueError(\"NaN detected in attention weights after softmax\")\n",
    "\n",
    "        attention = attention @ V  # [B, max_seq_len, qkv_dim]\n",
    "\n",
    "        if torch.isnan(attention).any() or torch.isinf(attention).any():\n",
    "            raise ValueError(\"NaN or Inf detected in final attention output\")\n",
    "\n",
    "        return attention"
   ]
  },
  {
   "cell_type": "markdown",
   "metadata": {
    "id": "Dul2bB1w5NwJ"
   },
   "source": [
    "### positional embedding"
   ]
  },
  {
   "cell_type": "code",
   "execution_count": 6,
   "metadata": {},
   "outputs": [],
   "source": [
    "class PositionalEmbedding(nn.Module):\n",
    "    def __init__(self, d_model, max_seq_length):\n",
    "        super().__init__()\n",
    "        self.d_model = d_model\n",
    "        self.max_seq_length = max_seq_length\n",
    "\n",
    "        pe = torch.zeros(max_seq_length, d_model)\n",
    "        position = torch.arange(0, max_seq_length, dtype=torch.float).unsqueeze(1)\n",
    "        div_term = torch.exp(torch.arange(0, d_model, 2).float() * (-np.log(10000.0) / d_model))\n",
    "        \n",
    "        pe[:, 0::2] = torch.sin(position * div_term)\n",
    "        pe[:, 1::2] = torch.cos(position * div_term)\n",
    "        \n",
    "        self.register_buffer('pe', pe.unsqueeze(0))\n",
    "\n",
    "    def forward(self, x):\n",
    "        seq_len = x.size(1)\n",
    "        return x + self.pe[:, :seq_len]"
   ]
  },
  {
   "cell_type": "markdown",
   "metadata": {
    "id": "XYFPTHqiXtuc"
   },
   "source": [
    "### vision encoder"
   ]
  },
  {
   "cell_type": "markdown",
   "metadata": {},
   "source": [
    "<img src=./fig/fig3.png>"
   ]
  },
  {
   "cell_type": "code",
   "execution_count": 7,
   "metadata": {
    "id": "AIaUyhC2eqIn"
   },
   "outputs": [],
   "source": [
    "class VisionEncoder(nn.Module):\n",
    "\n",
    "    def __init__(self, d_model,img_size,patch_size, n_channels, n_heads,n_layers, emb_dim):\n",
    "        super().__init__()\n",
    "\n",
    "        assert img_size[0] % patch_size[0] == 0 and img_size[1] % patch_size[1] ==0, \"image dimensions should be divisible by patch dim\"\n",
    "        assert d_model % n_heads == 0, \"d_model should be divisible by n_heads\"\n",
    "\n",
    "        self.num_patches = (img_size[0] * img_size[1] ) // (patch_size[0] * patch_size[1]) \n",
    "\n",
    "        self.max_seq_length = self.num_patches +1\n",
    "\n",
    "        self.linear_proj = nn.Conv2d(in_channels = n_channels,out_channels = d_model, kernel_size = patch_size[0], stride = patch_size[0])\n",
    "\n",
    "        self.cls_token = nn.Parameter(torch.randn(1,1,d_model), requires_grad = True)\n",
    "\n",
    "        self.positional_embedding =  PositionalEmbedding(d_model, self.max_seq_length)\n",
    "\n",
    "        self.transformer_encoder = nn.ModuleList([TransformerEncoder(d_model, n_heads) for _ in range(n_layers)])\n",
    "\n",
    "        self.projection = nn.Parameter(torch.randn(d_model, emb_dim))\n",
    "\n",
    "    def forward(self,x, mask = None):\n",
    "       \n",
    "        x  = self.linear_proj(x)  \n",
    "\n",
    "        x = x.flatten(2).transpose(-2, -1)   \n",
    "        \n",
    "        x = torch.cat((self.cls_token.expand(x.shape[0], -1,-1), x), dim = 1) \n",
    "\n",
    "        x =  self.positional_embedding(x)  #  [B,max_seq_len,d_model]\n",
    "\n",
    "        for encoder_layer in self.transformer_encoder:\n",
    "            x = encoder_layer(x, mask)  #  [B, d_model]\n",
    "\n",
    "        x = x[:, 0, :] \n",
    "\n",
    "        if self.projection is not None:\n",
    "           x  = x  @ self.projection  #[B, emb_dim]\n",
    "\n",
    "        x  = x  / torch.norm(x , dim = -1 , keepdim = True) \n",
    "\n",
    "\n",
    "        return x"
   ]
  },
  {
   "cell_type": "markdown",
   "metadata": {
    "id": "cfw2v3SBoipp"
   },
   "source": [
    "### tokenizer"
   ]
  },
  {
   "cell_type": "code",
   "execution_count": 8,
   "metadata": {
    "id": "B2vRn3mxkrQg"
   },
   "outputs": [],
   "source": [
    "# PhoBERT Tokenizer\n",
    "tokenizer = AutoTokenizer.from_pretrained(\"vinai/phobert-base\")\n",
    "\n",
    "def tokenize_vietnamese_text(text, max_seq_length=128):\n",
    "\n",
    "    try:\n",
    "        segmented_text = ViTokenizer.tokenize(text)\n",
    "    except Exception as e:\n",
    "        print(f\"Error during word segmentation: {e}\")\n",
    "        raise\n",
    "\n",
    "    encoding = tokenizer(\n",
    "        segmented_text,\n",
    "        add_special_tokens=True,\n",
    "        max_length=max_seq_length,\n",
    "        padding='max_length',\n",
    "        truncation=True,\n",
    "        return_tensors='pt'\n",
    "    )\n",
    "\n",
    "    input_ids = encoding['input_ids'].squeeze(0)\n",
    "    attention_mask = encoding['attention_mask'].squeeze(0)\n",
    "\n",
    "    return input_ids, attention_mask"
   ]
  },
  {
   "cell_type": "markdown",
   "metadata": {
    "id": "uwM0uL-wvSR_"
   },
   "source": [
    "### text encoder\n",
    "\n",
    "<img src=./fig/fig2.png>"
   ]
  },
  {
   "cell_type": "code",
   "execution_count": 9,
   "metadata": {
    "id": "Pr4-ZbGavUIr"
   },
   "outputs": [],
   "source": [
    "class TextEncoder(nn.Module):\n",
    "    def __init__(self, vocab_size=64000, d_model=64, max_seq_length=128, n_layers=8, n_heads=8, emb_dim=128):\n",
    "        super().__init__()\n",
    "\n",
    "        self.max_seq_length = max_seq_length\n",
    "\n",
    "        self.embed = nn.Embedding(vocab_size, d_model)\n",
    "\n",
    "        self.positional_embedding = PositionalEmbedding(d_model, max_seq_length)\n",
    "\n",
    "        self.transformer_encoder = nn.ModuleList([TransformerEncoder(d_model, n_heads) for _ in range(n_layers)])\n",
    "\n",
    "        self.projection = nn.Parameter(torch.randn(d_model, emb_dim))\n",
    "\n",
    "    def forward(self, text, mask=None):\n",
    "        x = self.embed(text)  # [B, max_seq_length]\n",
    "\n",
    "        x = self.positional_embedding(x)  # [B, max_seq_length, d_model]\n",
    "\n",
    "        for encoder_layer in self.transformer_encoder:\n",
    "            x = encoder_layer(x, mask=mask)  # [B, max_seq_length, d_model]\n",
    "\n",
    "        x = x[:, 0]  # [B, d_model]\n",
    "\n",
    "        if self.projection is not None:\n",
    "            x = x @ self.projection  # [B, emb_dim]\n",
    "\n",
    "        x = x / torch.norm(x, dim=-1, keepdim=True)  \n",
    "\n",
    "        return x"
   ]
  },
  {
   "cell_type": "code",
   "execution_count": 10,
   "metadata": {},
   "outputs": [],
   "source": [
    "class TextEncoder_Retrieval(nn.Module):\n",
    "    def __init__(self, vocab_size=64000, d_model=64, max_seq_length=128, n_layers=8, n_heads=8, emb_dim=128):\n",
    "        super().__init__()\n",
    "\n",
    "        self.max_seq_length = max_seq_length\n",
    "\n",
    "        self.embed = nn.Embedding(vocab_size, d_model)\n",
    "\n",
    "        self.positional_embedding = PositionalEmbedding(d_model, max_seq_length)\n",
    "\n",
    "        self.transformer_encoder = nn.ModuleList([TransformerEncoder(d_model, n_heads) for _ in range(n_layers)])\n",
    "\n",
    "        self.projection = nn.Parameter(torch.randn(d_model, emb_dim))\n",
    "\n",
    "    def forward(self, text, mask=None):\n",
    "        x = self.embed(text)  # [B, max_seq_length]\n",
    "\n",
    "        x = self.positional_embedding(x)  # [B, max_seq_length, d_model]\n",
    "\n",
    "        for encoder_layer in self.transformer_encoder:\n",
    "            x = encoder_layer(x, mask=mask)  # [B, max_seq_length, d_model]\n",
    "\n",
    "        x = x[:, 0]  # [B, d_model]\n",
    "\n",
    "        if self.projection is not None:\n",
    "            x = x @ self.projection  # [B, emb_dim]\n",
    "\n",
    "        x = x / torch.norm(x, dim=-1, keepdim=True)  \n",
    "\n",
    "        return x"
   ]
  },
  {
   "cell_type": "markdown",
   "metadata": {
    "id": "6C61gwLyQSli"
   },
   "source": [
    "### custom model"
   ]
  },
  {
   "cell_type": "code",
   "execution_count": 11,
   "metadata": {
    "id": "ZV3lYloAcolY"
   },
   "outputs": [],
   "source": [
    "class CustomModel(nn.Module):\n",
    "    def __init__(self, emb_dim, vit_layers, vit_d_model, img_size, patch_size, n_channels, vit_heads, vocab_size, max_seq_length, text_heads, text_layers, text_d_model, retrieval=False):\n",
    "        super().__init__()\n",
    "\n",
    "        self.vision_encoder = VisionEncoder(vit_d_model, img_size, patch_size, n_channels, vit_heads, vit_layers, emb_dim)\n",
    "        if retrieval:\n",
    "            self.text_encoder = TextEncoder_Retrieval(vocab_size, text_d_model, max_seq_length, text_layers, text_heads, emb_dim)\n",
    "        else:\n",
    "            self.text_encoder = TextEncoder(vocab_size, text_d_model, max_seq_length, text_layers, text_heads, emb_dim)\n",
    "\n",
    "        self.temperature = nn.Parameter(torch.ones([]) * np.log(1 / 0.07))\n",
    "\n",
    "        self.device = torch.device(\"cuda\" if torch.cuda.is_available() else \"cpu\")\n",
    "\n",
    "    def loss(self, logits, device=\"cuda\"):\n",
    "        labels = torch.arange(logits.shape[0]).to(device)\n",
    "        loss_v = nn.functional.cross_entropy(logits.transpose(-2, -1), labels)\n",
    "        loss_t = nn.functional.cross_entropy(logits, labels)\n",
    "        loss = (loss_v + loss_t) / 2\n",
    "        return loss\n",
    "\n",
    "    def forward(self, image, text, mask=None):\n",
    "        V_e = self.vision_encoder(image)  # [B, emb_dim]\n",
    "        T_e = self.text_encoder(text, mask)  # [B, emb_dim]\n",
    "\n",
    "        logits = (V_e @ T_e.transpose(-2, -1)) * torch.exp(self.temperature)\n",
    "        loss = self.loss(logits, self.device)\n",
    "        return loss"
   ]
  },
  {
   "cell_type": "code",
   "execution_count": 12,
   "metadata": {
    "colab": {
     "base_uri": "https://localhost:8080/"
    },
    "id": "OTB4Kc6AgvRE",
    "outputId": "4cc5cb45-7d6d-4a8b-94e0-7866a8f68d41"
   },
   "outputs": [],
   "source": [
    "# vision\n",
    "emb_dim = 1024 \n",
    "vit_d_model = 64 #   vit_heads * vit_layers = vit_d_model\n",
    "img_size = (80,80)\n",
    "patch_size = (5,5) \n",
    "n_channels = 3\n",
    "vit_layers = 8\n",
    "vit_heads = 8 \n",
    "\n",
    "# text\n",
    "vocab_size = 64000\n",
    "text_d_model = 16 #   text_heads * text_layers = text_d_model\n",
    "max_seq_length = 128\n",
    "text_heads = 4\n",
    "text_layers = 4\n",
    "lr = 1e-3\n",
    "epochs = 50\n",
    "batch_size = 256"
   ]
  },
  {
   "cell_type": "markdown",
   "metadata": {},
   "source": [
    "### data collection\n",
    "\n",
    "<img src=./fig/fig4.png>\n"
   ]
  },
  {
   "cell_type": "markdown",
   "metadata": {},
   "source": [
    "### train dataset"
   ]
  },
  {
   "cell_type": "code",
   "execution_count": 13,
   "metadata": {},
   "outputs": [
    {
     "name": "stdout",
     "output_type": "stream",
     "text": [
      "Preprocessing product names...\n"
     ]
    },
    {
     "name": "stdout",
     "output_type": "stream",
     "text": [
      "Missing image for id 273685774: none of [data/images/273685774.png, data/images/273685774.jpg, data/images/273685774.jpeg, data/images/273685774.PNG, data/images/273685774.JPG, data/images/273685774.JPEG] exist\n",
      "Missing image for id 126689903: none of [data/images/126689903.png, data/images/126689903.jpg, data/images/126689903.jpeg, data/images/126689903.PNG, data/images/126689903.JPG, data/images/126689903.JPEG] exist\n",
      "Missing image for id 74347298: none of [data/images/74347298.png, data/images/74347298.jpg, data/images/74347298.jpeg, data/images/74347298.PNG, data/images/74347298.JPG, data/images/74347298.JPEG] exist\n",
      "Missing image for id 196788353: none of [data/images/196788353.png, data/images/196788353.jpg, data/images/196788353.jpeg, data/images/196788353.PNG, data/images/196788353.JPG, data/images/196788353.JPEG] exist\n",
      "Missing image for id 277478409: none of [data/images/277478409.png, data/images/277478409.jpg, data/images/277478409.jpeg, data/images/277478409.PNG, data/images/277478409.JPG, data/images/277478409.JPEG] exist\n",
      "Total train samples after filtering: 10131 (Removed 5 samples with missing images)\n"
     ]
    }
   ],
   "source": [
    "df = pd.read_csv('data/train.csv', usecols=['id', 'label'])\n",
    "\n",
    "print(\"Preprocessing product names...\")\n",
    "input_ids_list = []\n",
    "attention_mask_list = []\n",
    "for name in df['label']:\n",
    "    input_ids, attention_mask = tokenize_vietnamese_text(name, max_seq_length=max_seq_length)\n",
    "    input_ids_list.append(input_ids)\n",
    "    attention_mask_list.append(attention_mask)\n",
    "\n",
    "df['input_ids'] = input_ids_list\n",
    "df['attention_mask'] = attention_mask_list\n",
    "\n",
    "image_extensions = ['png', 'jpg', 'jpeg', 'PNG', 'JPG', 'JPEG']\n",
    "\n",
    "valid_rows = []\n",
    "missing_images = 0\n",
    "for idx, row in df.iterrows():\n",
    "    base_path = os.path.join(\"data/images\", f\"{row['id']}\")\n",
    "    found = False\n",
    "    for ext in image_extensions:\n",
    "        img_path = f\"{base_path}.{ext}\"\n",
    "        if os.path.exists(img_path):\n",
    "            found = True\n",
    "            break\n",
    "    if found:\n",
    "        valid_rows.append(row)\n",
    "    else:\n",
    "        missing_images += 1\n",
    "        missing_paths = \", \".join([f\"{base_path}.{ext}\" for ext in image_extensions])\n",
    "        print(f\"Missing image for id {row['id']}: none of [{missing_paths}] exist\")\n",
    "\n",
    "if not valid_rows:\n",
    "    raise FileNotFoundError(\"No valid images found in the dataset.\")\n",
    "\n",
    "train_df = pd.DataFrame(valid_rows)\n",
    "print(f\"Total train samples after filtering: {len(df)} (Removed {missing_images} samples with missing images)\")"
   ]
  },
  {
   "cell_type": "markdown",
   "metadata": {},
   "source": [
    "### test dataset"
   ]
  },
  {
   "cell_type": "code",
   "execution_count": 14,
   "metadata": {},
   "outputs": [
    {
     "name": "stdout",
     "output_type": "stream",
     "text": [
      "Loading and preprocessing test data...\n",
      "Preprocessing product names for test data...\n"
     ]
    },
    {
     "name": "stdout",
     "output_type": "stream",
     "text": [
      "Total test samples after filtering: 4374 (Removed 0 samples with missing images)\n"
     ]
    }
   ],
   "source": [
    "print(\"Loading and preprocessing test data...\")\n",
    "test_df = pd.read_csv('data/test.csv', usecols=['id', 'label'])\n",
    "\n",
    "print(\"Preprocessing product names for test data...\")\n",
    "test_input_ids_list = []\n",
    "test_attention_mask_list = []\n",
    "for name in test_df['label']:\n",
    "    input_ids, attention_mask = tokenize_vietnamese_text(name, max_seq_length=max_seq_length)\n",
    "    test_input_ids_list.append(input_ids)\n",
    "    test_attention_mask_list.append(attention_mask)\n",
    "\n",
    "test_df['input_ids'] = test_input_ids_list\n",
    "test_df['attention_mask'] = test_attention_mask_list\n",
    "\n",
    "test_valid_rows = []\n",
    "test_missing_images = 0\n",
    "for idx, row in test_df.iterrows():\n",
    "    base_path = os.path.join(\"data/images\", f\"{row['id']}\")\n",
    "    found = False\n",
    "    for ext in image_extensions:\n",
    "        img_path = f\"{base_path}.{ext}\"\n",
    "        if os.path.exists(img_path):\n",
    "            found = True\n",
    "            break\n",
    "    if found:\n",
    "        test_valid_rows.append(row)\n",
    "    else:\n",
    "        test_missing_images += 1\n",
    "        missing_paths = \", \".join([f\"{base_path}.{ext}\" for ext in image_extensions])\n",
    "        print(f\"Missing image for id {row['id']} in test data: none of [{missing_paths}] exist\")\n",
    "\n",
    "if not test_valid_rows:\n",
    "    raise FileNotFoundError(\"No valid images found in the test dataset.\")\n",
    "\n",
    "test_df = pd.DataFrame(test_valid_rows)\n",
    "print(f\"Total test samples after filtering: {len(test_df)} (Removed {test_missing_images} samples with missing images)\")"
   ]
  },
  {
   "cell_type": "code",
   "execution_count": 15,
   "metadata": {},
   "outputs": [
    {
     "name": "stdout",
     "output_type": "stream",
     "text": [
      "Final dataset sizes: Train=10126, Test=4374\n"
     ]
    }
   ],
   "source": [
    "print(f\"Final dataset sizes: Train={len(train_df)}, Test={len(test_df)}\")"
   ]
  },
  {
   "cell_type": "code",
   "execution_count": 16,
   "metadata": {},
   "outputs": [
    {
     "data": {
      "text/plain": [
       "72"
      ]
     },
     "execution_count": 16,
     "metadata": {},
     "output_type": "execute_result"
    }
   ],
   "source": [
    "# check number of cpu cores for num_workers in dataloader\n",
    "torch.multiprocessing.cpu_count()"
   ]
  },
  {
   "cell_type": "code",
   "execution_count": 17,
   "metadata": {},
   "outputs": [
    {
     "name": "stdout",
     "output_type": "stream",
     "text": [
      "Number of Samples in Train Dataset: 10126\n",
      "Number of Samples in Test Dataset: 4374\n"
     ]
    },
    {
     "data": {
      "text/plain": [
       "4"
      ]
     },
     "execution_count": 17,
     "metadata": {},
     "output_type": "execute_result"
    }
   ],
   "source": [
    "class CustomDataset(Dataset):\n",
    "    def __init__(self, data_frame, target_size=80):\n",
    "        self.data_frame = data_frame\n",
    "        self.target_size = target_size\n",
    "        self.transform = T.Compose([\n",
    "            T.ToTensor()\n",
    "        ])\n",
    "\n",
    "    def __len__(self):\n",
    "        return len(self.data_frame)\n",
    "\n",
    "    def __getitem__(self, idx):\n",
    "        max_retries = 10  \n",
    "        retries = 0\n",
    "        original_idx = idx  \n",
    "\n",
    "        image_extensions = ['png', 'jpg', 'jpeg', 'PNG', 'JPG', 'JPEG']\n",
    "\n",
    "        while retries < max_retries:\n",
    "            sample = self.data_frame.iloc[idx]\n",
    "            base_path = os.path.join(\"./data/images\", f\"{sample['id']}\")\n",
    "\n",
    "            image = None\n",
    "            img_path = None\n",
    "            for ext in image_extensions:\n",
    "                try_path = f\"{base_path}.{ext}\"\n",
    "                try:\n",
    "                    image = Image.open(try_path).convert('RGB')\n",
    "                    img_path = try_path\n",
    "                    break  \n",
    "                except (FileNotFoundError, IOError):\n",
    "                    continue  \n",
    "\n",
    "            if image is None:\n",
    "                missing_paths = \", \".join([f\"{base_path}.{ext}\" for ext in image_extensions])\n",
    "                print(f\"Error loading image for id {sample['id']}: none of [{missing_paths}] exist\")\n",
    "                idx = (idx + 1) % len(self.data_frame)\n",
    "                retries += 1\n",
    "                if idx == original_idx and retries > 0:\n",
    "                    raise FileNotFoundError(\"No valid images found after trying all samples in the dataset.\")\n",
    "                continue\n",
    "\n",
    "            image = self.resize_and_pad(image, self.target_size)\n",
    "            image = self.transform(image)\n",
    "\n",
    "            name = sample['label']\n",
    "            try:\n",
    "                input_ids, mask = tokenize_vietnamese_text(name, max_seq_length=128)\n",
    "            except Exception as e:\n",
    "                print(f\"Error tokenizing name '{name}' at index {idx}: {e}\")\n",
    "                idx = (idx + 1) % len(self.data_frame)\n",
    "                retries += 1\n",
    "                if idx == original_idx:\n",
    "                    raise RuntimeError(\"No valid samples found after trying all samples in the dataset.\")\n",
    "                continue\n",
    "\n",
    "\n",
    "            return {\"image\": image, \"caption\": input_ids, \"mask\": mask, \"id\": img_path}\n",
    "\n",
    "        raise RuntimeError(f\"Failed to find a valid sample after {max_retries} retries.\")\n",
    "\n",
    "    def resize_and_pad(self, image, target_size):\n",
    "        original_width, original_height = image.size\n",
    "        aspect_ratio = original_width / original_height\n",
    "\n",
    "        if aspect_ratio > 1:\n",
    "            new_width = target_size\n",
    "            new_height = int(target_size / aspect_ratio)\n",
    "        else:\n",
    "            new_height = target_size\n",
    "            new_width = int(target_size * aspect_ratio)\n",
    "\n",
    "        image = image.resize((new_width, new_height))\n",
    "\n",
    "        pad_width = (target_size - new_width) // 2\n",
    "        pad_height = (target_size - new_height) // 2\n",
    "\n",
    "        padding = (pad_width, pad_height, target_size - new_width - pad_width, target_size - new_height - pad_height)\n",
    "        image = ImageOps.expand(image, padding, fill=(0, 0, 0))\n",
    "\n",
    "        return image\n",
    "\n",
    "train_dataset = CustomDataset(data_frame=train_df, target_size=80)\n",
    "test_dataset = CustomDataset(data_frame=test_df, target_size=80)\n",
    "\n",
    "print(\"Number of Samples in Train Dataset:\", len(train_dataset))\n",
    "print(\"Number of Samples in Test Dataset:\", len(test_dataset))\n",
    "\n",
    "\n",
    "train_loader = DataLoader(train_dataset, shuffle=True, batch_size=batch_size, num_workers=72)\n",
    "test_loader = DataLoader(test_dataset, shuffle=False, batch_size=batch_size, num_workers=72)\n",
    "\n",
    "len(next(iter(train_loader)))"
   ]
  },
  {
   "cell_type": "code",
   "execution_count": 25,
   "metadata": {
    "scrolled": true
   },
   "outputs": [
    {
     "data": {
      "image/png": "[encoded data removed]",
      "text/plain": [
       "<Figure size 1200x1200 with 9 Axes>"
      ]
     },
     "metadata": {},
     "output_type": "display_data"
    }
   ],
   "source": [
    "def visualize_samples(dataset, num_samples=9, grid_cols=3):\n",
    "    indices = random.sample(range(len(dataset)), num_samples)\n",
    "    \n",
    "    grid_rows = (num_samples + grid_cols - 1) // grid_cols\n",
    "    \n",
    "    plt.figure(figsize=(grid_cols * 4, grid_rows * 4))\n",
    "    \n",
    "    for idx, sample_idx in enumerate(indices):\n",
    "        sample = dataset[sample_idx]\n",
    "        image = sample['image']\n",
    "        name = dataset.data_frame.iloc[sample_idx]['label'] \n",
    "        \n",
    "        image = T.ToPILImage()(image)\n",
    "        \n",
    "        plt.subplot(grid_rows, grid_cols, idx + 1)\n",
    "        plt.imshow(image, interpolation='nearest')\n",
    "        plt.title(f\"{name}\", fontsize=10, pad=10)  \n",
    "        plt.axis('off')\n",
    "    \n",
    "    plt.tight_layout()\n",
    "    plt.show()\n",
    "\n",
    "visualize_samples(train_dataset, num_samples=9, grid_cols=3)"
   ]
  },
  {
   "cell_type": "markdown",
   "metadata": {},
   "source": [
    "### Training"
   ]
  },
  {
   "cell_type": "code",
   "execution_count": 19,
   "metadata": {
    "colab": {
     "base_uri": "https://localhost:8080/"
    },
    "id": "3siF3ubJg7zy",
    "outputId": "9f38a351-27d6-41f9-f66d-d1338db7fc1e",
    "scrolled": true
   },
   "outputs": [
    {
     "name": "stdout",
     "output_type": "stream",
     "text": [
      "Using device:  cuda (NVIDIA GeForce RTX 3080 Ti)\n"
     ]
    }
   ],
   "source": [
    "device = torch.device(\"cuda\" if torch.cuda.is_available() else \"cpu\")\n",
    "print(\"Using device: \", device, f\"({torch.cuda.get_device_name(device)})\" if torch.cuda.is_available() else \"\")\n",
    "\n",
    "\n",
    "model = CustomModel(emb_dim, vit_layers, vit_d_model, img_size,patch_size,n_channels, vit_heads, vocab_size, max_seq_length, text_heads, text_layers,text_d_model, retrieval = False).to(device)\n",
    "optimizer = optim.AdamW(model.parameters(), lr=lr)"
   ]
  },
  {
   "cell_type": "code",
   "execution_count": 20,
   "metadata": {},
   "outputs": [
    {
     "name": "stdout",
     "output_type": "stream",
     "text": [
      "Total number of trainable parameters: 1.52 M\n"
     ]
    }
   ],
   "source": [
    "total_params = 0\n",
    "\n",
    "total_params = sum([ param.numel() for param in model.parameters() if param.requires_grad])\n",
    "\n",
    "print(f\"Total number of trainable parameters: {total_params/1000000:.2f} M\")"
   ]
  },
  {
   "cell_type": "code",
   "execution_count": 21,
   "metadata": {},
   "outputs": [
    {
     "name": "stderr",
     "output_type": "stream",
     "text": [
      "Epoch [1/50]: 100%|██████████| 40/40 [00:17<00:00,  2.28it/s, loss=4.96]"
     ]
    },
    {
     "name": "stdout",
     "output_type": "stream",
     "text": [
      "Epoch [1/50], Average Loss: 5.531\n",
      "Model Saved.\n"
     ]
    },
    {
     "name": "stderr",
     "output_type": "stream",
     "text": [
      "\n",
      "Epoch [2/50]: 100%|██████████| 40/40 [00:16<00:00,  2.47it/s, loss=4.95]"
     ]
    },
    {
     "name": "stdout",
     "output_type": "stream",
     "text": [
      "Epoch [2/50], Average Loss: 5.530\n",
      "Model Saved.\n"
     ]
    },
    {
     "name": "stderr",
     "output_type": "stream",
     "text": [
      "\n",
      "Epoch [3/50]: 100%|██████████| 40/40 [00:16<00:00,  2.47it/s, loss=4.87]"
     ]
    },
    {
     "name": "stdout",
     "output_type": "stream",
     "text": [
      "Epoch [3/50], Average Loss: 5.495\n",
      "Model Saved.\n"
     ]
    },
    {
     "name": "stderr",
     "output_type": "stream",
     "text": [
      "\n",
      "Epoch [4/50]: 100%|██████████| 40/40 [00:16<00:00,  2.43it/s, loss=4.66]"
     ]
    },
    {
     "name": "stdout",
     "output_type": "stream",
     "text": [
      "Epoch [4/50], Average Loss: 5.343\n",
      "Model Saved.\n"
     ]
    },
    {
     "name": "stderr",
     "output_type": "stream",
     "text": [
      "\n",
      "Epoch [5/50]: 100%|██████████| 40/40 [00:16<00:00,  2.46it/s, loss=4.5] "
     ]
    },
    {
     "name": "stdout",
     "output_type": "stream",
     "text": [
      "Epoch [5/50], Average Loss: 5.176\n",
      "Model Saved.\n"
     ]
    },
    {
     "name": "stderr",
     "output_type": "stream",
     "text": [
      "\n",
      "Epoch [6/50]: 100%|██████████| 40/40 [00:16<00:00,  2.46it/s, loss=4.38]"
     ]
    },
    {
     "name": "stdout",
     "output_type": "stream",
     "text": [
      "Epoch [6/50], Average Loss: 5.045\n",
      "Model Saved.\n"
     ]
    },
    {
     "name": "stderr",
     "output_type": "stream",
     "text": [
      "\n",
      "Epoch [7/50]: 100%|██████████| 40/40 [00:16<00:00,  2.41it/s, loss=4.29]"
     ]
    },
    {
     "name": "stdout",
     "output_type": "stream",
     "text": [
      "Epoch [7/50], Average Loss: 4.934\n",
      "Model Saved.\n"
     ]
    },
    {
     "name": "stderr",
     "output_type": "stream",
     "text": [
      "\n",
      "Epoch [8/50]: 100%|██████████| 40/40 [00:16<00:00,  2.43it/s, loss=4.1] "
     ]
    },
    {
     "name": "stdout",
     "output_type": "stream",
     "text": [
      "Epoch [8/50], Average Loss: 4.819\n",
      "Model Saved.\n"
     ]
    },
    {
     "name": "stderr",
     "output_type": "stream",
     "text": [
      "\n",
      "Epoch [9/50]: 100%|██████████| 40/40 [00:16<00:00,  2.47it/s, loss=4.25]"
     ]
    },
    {
     "name": "stdout",
     "output_type": "stream",
     "text": [
      "Epoch [9/50], Average Loss: 4.727\n",
      "Model Saved.\n"
     ]
    },
    {
     "name": "stderr",
     "output_type": "stream",
     "text": [
      "\n",
      "Epoch [10/50]: 100%|██████████| 40/40 [00:16<00:00,  2.43it/s, loss=4.15]"
     ]
    },
    {
     "name": "stdout",
     "output_type": "stream",
     "text": [
      "Epoch [10/50], Average Loss: 4.624\n",
      "Model Saved.\n"
     ]
    },
    {
     "name": "stderr",
     "output_type": "stream",
     "text": [
      "\n",
      "Epoch [11/50]: 100%|██████████| 40/40 [00:16<00:00,  2.44it/s, loss=3.91]"
     ]
    },
    {
     "name": "stdout",
     "output_type": "stream",
     "text": [
      "Epoch [11/50], Average Loss: 4.549\n",
      "Model Saved.\n"
     ]
    },
    {
     "name": "stderr",
     "output_type": "stream",
     "text": [
      "\n",
      "Epoch [12/50]: 100%|██████████| 40/40 [00:16<00:00,  2.43it/s, loss=4.05]"
     ]
    },
    {
     "name": "stdout",
     "output_type": "stream",
     "text": [
      "Epoch [12/50], Average Loss: 4.456\n",
      "Model Saved.\n"
     ]
    },
    {
     "name": "stderr",
     "output_type": "stream",
     "text": [
      "\n",
      "Epoch [13/50]: 100%|██████████| 40/40 [00:16<00:00,  2.45it/s, loss=3.68]"
     ]
    },
    {
     "name": "stdout",
     "output_type": "stream",
     "text": [
      "Epoch [13/50], Average Loss: 4.372\n",
      "Model Saved.\n"
     ]
    },
    {
     "name": "stderr",
     "output_type": "stream",
     "text": [
      "\n",
      "Epoch [14/50]: 100%|██████████| 40/40 [00:16<00:00,  2.44it/s, loss=3.68]"
     ]
    },
    {
     "name": "stdout",
     "output_type": "stream",
     "text": [
      "Epoch [14/50], Average Loss: 4.318\n",
      "Model Saved.\n"
     ]
    },
    {
     "name": "stderr",
     "output_type": "stream",
     "text": [
      "\n",
      "Epoch [15/50]: 100%|██████████| 40/40 [00:16<00:00,  2.43it/s, loss=3.5] "
     ]
    },
    {
     "name": "stdout",
     "output_type": "stream",
     "text": [
      "Epoch [15/50], Average Loss: 4.233\n",
      "Model Saved.\n"
     ]
    },
    {
     "name": "stderr",
     "output_type": "stream",
     "text": [
      "\n",
      "Epoch [16/50]: 100%|██████████| 40/40 [00:19<00:00,  2.08it/s, loss=3.69]"
     ]
    },
    {
     "name": "stdout",
     "output_type": "stream",
     "text": [
      "Epoch [16/50], Average Loss: 4.168\n",
      "Model Saved.\n"
     ]
    },
    {
     "name": "stderr",
     "output_type": "stream",
     "text": [
      "\n",
      "Epoch [17/50]: 100%|██████████| 40/40 [00:16<00:00,  2.44it/s, loss=3.69]"
     ]
    },
    {
     "name": "stdout",
     "output_type": "stream",
     "text": [
      "Epoch [17/50], Average Loss: 4.099\n",
      "Model Saved.\n"
     ]
    },
    {
     "name": "stderr",
     "output_type": "stream",
     "text": [
      "\n",
      "Epoch [18/50]: 100%|██████████| 40/40 [00:16<00:00,  2.40it/s, loss=3.45]"
     ]
    },
    {
     "name": "stdout",
     "output_type": "stream",
     "text": [
      "Epoch [18/50], Average Loss: 4.017\n",
      "Model Saved.\n"
     ]
    },
    {
     "name": "stderr",
     "output_type": "stream",
     "text": [
      "\n",
      "Epoch [19/50]: 100%|██████████| 40/40 [00:16<00:00,  2.40it/s, loss=3.35]"
     ]
    },
    {
     "name": "stdout",
     "output_type": "stream",
     "text": [
      "Epoch [19/50], Average Loss: 3.942\n",
      "Model Saved.\n"
     ]
    },
    {
     "name": "stderr",
     "output_type": "stream",
     "text": [
      "\n",
      "Epoch [20/50]: 100%|██████████| 40/40 [00:17<00:00,  2.35it/s, loss=3.54]"
     ]
    },
    {
     "name": "stdout",
     "output_type": "stream",
     "text": [
      "Epoch [20/50], Average Loss: 3.866\n",
      "Model Saved.\n"
     ]
    },
    {
     "name": "stderr",
     "output_type": "stream",
     "text": [
      "\n",
      "Epoch [21/50]: 100%|██████████| 40/40 [00:16<00:00,  2.39it/s, loss=3.32]"
     ]
    },
    {
     "name": "stdout",
     "output_type": "stream",
     "text": [
      "Epoch [21/50], Average Loss: 3.801\n",
      "Model Saved.\n"
     ]
    },
    {
     "name": "stderr",
     "output_type": "stream",
     "text": [
      "\n",
      "Epoch [22/50]: 100%|██████████| 40/40 [00:16<00:00,  2.42it/s, loss=3.48]"
     ]
    },
    {
     "name": "stdout",
     "output_type": "stream",
     "text": [
      "Epoch [22/50], Average Loss: 3.748\n",
      "Model Saved.\n"
     ]
    },
    {
     "name": "stderr",
     "output_type": "stream",
     "text": [
      "\n",
      "Epoch [23/50]: 100%|██████████| 40/40 [00:16<00:00,  2.44it/s, loss=3.1] "
     ]
    },
    {
     "name": "stdout",
     "output_type": "stream",
     "text": [
      "Epoch [23/50], Average Loss: 3.679\n",
      "Model Saved.\n"
     ]
    },
    {
     "name": "stderr",
     "output_type": "stream",
     "text": [
      "\n",
      "Epoch [24/50]: 100%|██████████| 40/40 [00:16<00:00,  2.47it/s, loss=3.09]"
     ]
    },
    {
     "name": "stdout",
     "output_type": "stream",
     "text": [
      "Epoch [24/50], Average Loss: 3.609\n",
      "Model Saved.\n"
     ]
    },
    {
     "name": "stderr",
     "output_type": "stream",
     "text": [
      "\n",
      "Epoch [25/50]: 100%|██████████| 40/40 [00:16<00:00,  2.41it/s, loss=3.35]"
     ]
    },
    {
     "name": "stdout",
     "output_type": "stream",
     "text": [
      "Epoch [25/50], Average Loss: 3.517\n",
      "Model Saved.\n"
     ]
    },
    {
     "name": "stderr",
     "output_type": "stream",
     "text": [
      "\n",
      "Epoch [26/50]: 100%|██████████| 40/40 [00:16<00:00,  2.45it/s, loss=3]   "
     ]
    },
    {
     "name": "stdout",
     "output_type": "stream",
     "text": [
      "Epoch [26/50], Average Loss: 3.424\n",
      "Model Saved.\n"
     ]
    },
    {
     "name": "stderr",
     "output_type": "stream",
     "text": [
      "\n",
      "Epoch [27/50]: 100%|██████████| 40/40 [00:16<00:00,  2.42it/s, loss=2.73]"
     ]
    },
    {
     "name": "stdout",
     "output_type": "stream",
     "text": [
      "Epoch [27/50], Average Loss: 3.360\n",
      "Model Saved.\n"
     ]
    },
    {
     "name": "stderr",
     "output_type": "stream",
     "text": [
      "\n",
      "Epoch [28/50]: 100%|██████████| 40/40 [00:16<00:00,  2.45it/s, loss=2.89]"
     ]
    },
    {
     "name": "stdout",
     "output_type": "stream",
     "text": [
      "Epoch [28/50], Average Loss: 3.299\n",
      "Model Saved.\n"
     ]
    },
    {
     "name": "stderr",
     "output_type": "stream",
     "text": [
      "\n",
      "Epoch [29/50]: 100%|██████████| 40/40 [00:17<00:00,  2.33it/s, loss=2.65]"
     ]
    },
    {
     "name": "stdout",
     "output_type": "stream",
     "text": [
      "Epoch [29/50], Average Loss: 3.212\n",
      "Model Saved.\n"
     ]
    },
    {
     "name": "stderr",
     "output_type": "stream",
     "text": [
      "\n",
      "Epoch [30/50]: 100%|██████████| 40/40 [00:16<00:00,  2.45it/s, loss=2.76]"
     ]
    },
    {
     "name": "stdout",
     "output_type": "stream",
     "text": [
      "Epoch [30/50], Average Loss: 3.169\n",
      "Model Saved.\n"
     ]
    },
    {
     "name": "stderr",
     "output_type": "stream",
     "text": [
      "\n",
      "Epoch [31/50]: 100%|██████████| 40/40 [00:16<00:00,  2.45it/s, loss=2.61]"
     ]
    },
    {
     "name": "stdout",
     "output_type": "stream",
     "text": [
      "Epoch [31/50], Average Loss: 3.076\n",
      "Model Saved.\n"
     ]
    },
    {
     "name": "stderr",
     "output_type": "stream",
     "text": [
      "\n",
      "Epoch [32/50]: 100%|██████████| 40/40 [00:16<00:00,  2.41it/s, loss=2.54]"
     ]
    },
    {
     "name": "stdout",
     "output_type": "stream",
     "text": [
      "Epoch [32/50], Average Loss: 3.037\n",
      "Model Saved.\n"
     ]
    },
    {
     "name": "stderr",
     "output_type": "stream",
     "text": [
      "\n",
      "Epoch [33/50]: 100%|██████████| 40/40 [00:16<00:00,  2.41it/s, loss=2.49]"
     ]
    },
    {
     "name": "stdout",
     "output_type": "stream",
     "text": [
      "Epoch [33/50], Average Loss: 2.943\n",
      "Model Saved.\n"
     ]
    },
    {
     "name": "stderr",
     "output_type": "stream",
     "text": [
      "\n",
      "Epoch [34/50]: 100%|██████████| 40/40 [00:16<00:00,  2.37it/s, loss=2.35]"
     ]
    },
    {
     "name": "stdout",
     "output_type": "stream",
     "text": [
      "Epoch [34/50], Average Loss: 2.889\n",
      "Model Saved.\n"
     ]
    },
    {
     "name": "stderr",
     "output_type": "stream",
     "text": [
      "\n",
      "Epoch [35/50]: 100%|██████████| 40/40 [00:16<00:00,  2.42it/s, loss=2.29]"
     ]
    },
    {
     "name": "stdout",
     "output_type": "stream",
     "text": [
      "Epoch [35/50], Average Loss: 2.742\n",
      "Model Saved.\n"
     ]
    },
    {
     "name": "stderr",
     "output_type": "stream",
     "text": [
      "\n",
      "Epoch [36/50]: 100%|██████████| 40/40 [00:16<00:00,  2.43it/s, loss=2.22]"
     ]
    },
    {
     "name": "stdout",
     "output_type": "stream",
     "text": [
      "Epoch [36/50], Average Loss: 2.721\n",
      "Model Saved.\n"
     ]
    },
    {
     "name": "stderr",
     "output_type": "stream",
     "text": [
      "\n",
      "Epoch [37/50]: 100%|██████████| 40/40 [00:16<00:00,  2.44it/s, loss=2.28]"
     ]
    },
    {
     "name": "stdout",
     "output_type": "stream",
     "text": [
      "Epoch [37/50], Average Loss: 2.700\n",
      "Model Saved.\n"
     ]
    },
    {
     "name": "stderr",
     "output_type": "stream",
     "text": [
      "\n",
      "Epoch [38/50]: 100%|██████████| 40/40 [00:16<00:00,  2.42it/s, loss=2.09]"
     ]
    },
    {
     "name": "stdout",
     "output_type": "stream",
     "text": [
      "Epoch [38/50], Average Loss: 2.630\n",
      "Model Saved.\n"
     ]
    },
    {
     "name": "stderr",
     "output_type": "stream",
     "text": [
      "\n",
      "Epoch [39/50]: 100%|██████████| 40/40 [00:17<00:00,  2.33it/s, loss=2.04]"
     ]
    },
    {
     "name": "stdout",
     "output_type": "stream",
     "text": [
      "Epoch [39/50], Average Loss: 2.499\n",
      "Model Saved.\n"
     ]
    },
    {
     "name": "stderr",
     "output_type": "stream",
     "text": [
      "\n",
      "Epoch [40/50]: 100%|██████████| 40/40 [00:16<00:00,  2.36it/s, loss=1.93]"
     ]
    },
    {
     "name": "stdout",
     "output_type": "stream",
     "text": [
      "Epoch [40/50], Average Loss: 2.450\n",
      "Model Saved.\n"
     ]
    },
    {
     "name": "stderr",
     "output_type": "stream",
     "text": [
      "\n",
      "Epoch [41/50]: 100%|██████████| 40/40 [00:16<00:00,  2.41it/s, loss=1.92]"
     ]
    },
    {
     "name": "stdout",
     "output_type": "stream",
     "text": [
      "Epoch [41/50], Average Loss: 2.455\n"
     ]
    },
    {
     "name": "stderr",
     "output_type": "stream",
     "text": [
      "\n",
      "Epoch [42/50]: 100%|██████████| 40/40 [00:16<00:00,  2.45it/s, loss=2]   "
     ]
    },
    {
     "name": "stdout",
     "output_type": "stream",
     "text": [
      "Epoch [42/50], Average Loss: 2.422\n",
      "Model Saved.\n"
     ]
    },
    {
     "name": "stderr",
     "output_type": "stream",
     "text": [
      "\n",
      "Epoch [43/50]: 100%|██████████| 40/40 [00:16<00:00,  2.42it/s, loss=2.01]"
     ]
    },
    {
     "name": "stdout",
     "output_type": "stream",
     "text": [
      "Epoch [43/50], Average Loss: 2.420\n",
      "Model Saved.\n"
     ]
    },
    {
     "name": "stderr",
     "output_type": "stream",
     "text": [
      "\n",
      "Epoch [44/50]: 100%|██████████| 40/40 [00:16<00:00,  2.40it/s, loss=1.95]"
     ]
    },
    {
     "name": "stdout",
     "output_type": "stream",
     "text": [
      "Epoch [44/50], Average Loss: 2.379\n",
      "Model Saved.\n"
     ]
    },
    {
     "name": "stderr",
     "output_type": "stream",
     "text": [
      "\n",
      "Epoch [45/50]: 100%|██████████| 40/40 [00:16<00:00,  2.40it/s, loss=1.84]"
     ]
    },
    {
     "name": "stdout",
     "output_type": "stream",
     "text": [
      "Epoch [45/50], Average Loss: 2.321\n",
      "Model Saved.\n"
     ]
    },
    {
     "name": "stderr",
     "output_type": "stream",
     "text": [
      "\n",
      "Epoch [46/50]: 100%|██████████| 40/40 [00:16<00:00,  2.42it/s, loss=1.76]"
     ]
    },
    {
     "name": "stdout",
     "output_type": "stream",
     "text": [
      "Epoch [46/50], Average Loss: 2.318\n",
      "Model Saved.\n"
     ]
    },
    {
     "name": "stderr",
     "output_type": "stream",
     "text": [
      "\n",
      "Epoch [47/50]: 100%|██████████| 40/40 [00:16<00:00,  2.41it/s, loss=1.91]"
     ]
    },
    {
     "name": "stdout",
     "output_type": "stream",
     "text": [
      "Epoch [47/50], Average Loss: 2.253\n",
      "Model Saved.\n"
     ]
    },
    {
     "name": "stderr",
     "output_type": "stream",
     "text": [
      "\n",
      "Epoch [48/50]: 100%|██████████| 40/40 [00:16<00:00,  2.41it/s, loss=1.63]"
     ]
    },
    {
     "name": "stdout",
     "output_type": "stream",
     "text": [
      "Epoch [48/50], Average Loss: 2.272\n"
     ]
    },
    {
     "name": "stderr",
     "output_type": "stream",
     "text": [
      "\n",
      "Epoch [49/50]: 100%|██████████| 40/40 [00:16<00:00,  2.40it/s, loss=1.65]"
     ]
    },
    {
     "name": "stdout",
     "output_type": "stream",
     "text": [
      "Epoch [49/50], Average Loss: 2.245\n",
      "Model Saved.\n"
     ]
    },
    {
     "name": "stderr",
     "output_type": "stream",
     "text": [
      "\n",
      "Epoch [50/50]: 100%|██████████| 40/40 [00:16<00:00,  2.44it/s, loss=1.65]"
     ]
    },
    {
     "name": "stdout",
     "output_type": "stream",
     "text": [
      "Epoch [50/50], Average Loss: 2.183\n",
      "Model Saved.\n",
      "Training completed. Log saved to training_log.txt\n"
     ]
    },
    {
     "name": "stderr",
     "output_type": "stream",
     "text": [
      "\n"
     ]
    }
   ],
   "source": [
    "log_file = \"training_log.txt\"\n",
    "\n",
    "with open(log_file, \"w\") as f:\n",
    "    f.write(\"Training Log\\n\")\n",
    "    f.write(\"=\" * 20 + \"\\n\")\n",
    "\n",
    "num_params = sum(p.numel() for p in model.parameters() if p.requires_grad)\n",
    "\n",
    "with open(log_file, \"a\") as f:\n",
    "    f.write(f\"Number of parameters: {num_params:,}\\n\")\n",
    "    f.write(\"=\" * 20 + \"\\n\")\n",
    "\n",
    "start_time = time.time()\n",
    "\n",
    "best_loss = np.inf\n",
    "for epoch in range(epochs):\n",
    "    epoch_loss = 0.0  \n",
    "    with tqdm(enumerate(train_loader, 0), total=len(train_loader), desc=f\"Epoch [{epoch+1}/{epochs}]\") as tepoch:\n",
    "        for i, data in tepoch:\n",
    "            img, cap, mask = data[\"image\"].to(device), data[\"caption\"].to(device), data[\"mask\"].to(device)\n",
    "            optimizer.zero_grad()\n",
    "            loss = model(img, cap, mask)\n",
    "            loss.backward()\n",
    "            optimizer.step()\n",
    "\n",
    "            tepoch.set_postfix(loss=loss.item())\n",
    "            epoch_loss += loss.item()\n",
    "\n",
    "    avg_loss = epoch_loss / len(train_loader)\n",
    "    print(f\"Epoch [{epoch+1}/{epochs}], Average Loss: {avg_loss:.3f}\")\n",
    "\n",
    "    with open(log_file, \"a\") as f:\n",
    "        f.write(f\"Epoch [{epoch+1}/{epochs}], Average Loss: {avg_loss:.3f}\\n\")\n",
    "\n",
    "    if avg_loss <= best_loss:\n",
    "        best_loss = avg_loss\n",
    "        torch.save(model.state_dict(), \"e-com.pt\")\n",
    "        print(\"Model Saved.\")\n",
    "\n",
    "        model_size = os.path.getsize(\"e-com.pt\") / (1024 * 1024)  \n",
    "        with open(log_file, \"a\") as f:\n",
    "            f.write(f\"Model Saved at Epoch {epoch+1}\\n\")\n",
    "            f.write(f\"Model Size: {model_size:.2f} MB\\n\")\n",
    "\n",
    "end_time = time.time()\n",
    "total_time = end_time - start_time\n",
    "hours, rem = divmod(total_time, 3600)\n",
    "minutes, seconds = divmod(rem, 60)\n",
    "\n",
    "with open(log_file, \"a\") as f:\n",
    "    f.write(\"=\" * 20 + \"\\n\")\n",
    "    f.write(f\"Total Training Time: {int(hours)}h {int(minutes)}m {seconds:.2f}s\\n\")\n",
    "    f.write(f\"Best Loss: {best_loss:.3f}\\n\")\n",
    "\n",
    "print(f\"Training completed. Log saved to {log_file}\")"
   ]
  },
  {
   "cell_type": "markdown",
   "metadata": {},
   "source": [
    "### Evaluation"
   ]
  },
  {
   "cell_type": "code",
   "execution_count": 22,
   "metadata": {},
   "outputs": [
    {
     "name": "stdout",
     "output_type": "stream",
     "text": [
      "\n",
      "Text-to-Image Metrics:\n",
      "Mean Cosine Similarity@Top-1: 0.3812\n",
      "Mean Cosine Similarity@Top-5: 0.3690\n",
      "Mean Cosine Similarity@Top-10: 0.3615\n",
      "\n",
      "Image-to-Image Metrics:\n",
      "Mean Cosine Similarity@Top-1: 0.8158\n",
      "Mean Cosine Similarity@Top-5: 0.7743\n",
      "Mean Cosine Similarity@Top-10: 0.7504\n",
      "\n",
      "Inference Times (milliseconds):\n",
      "Text Encoder: 188.02 ms\n",
      "Vision Encoder: 172.73 ms\n"
     ]
    }
   ],
   "source": [
    "import torch\n",
    "import time\n",
    "\n",
    "model = CustomModel(emb_dim, vit_layers, vit_d_model, img_size, patch_size, n_channels, vit_heads, vocab_size, max_seq_length, text_heads, text_layers, text_d_model, retrieval=False).to(device)\n",
    "model.load_state_dict(torch.load(\"e-com.pt\", map_location=device))\n",
    "\n",
    "text_inputs = torch.stack([sample['caption'] for sample in test_dataset]).to(device)\n",
    "text_masks = torch.stack([sample['mask'] for sample in test_dataset]).to(device)\n",
    "\n",
    "def time_gpu_inference(model, inputs, encoder_type, mask=None):\n",
    "    model.eval()\n",
    "    torch.cuda.synchronize()\n",
    "    start_time = time.time()\n",
    "    with torch.no_grad():\n",
    "        if encoder_type == 'text':\n",
    "            features = model.text_encoder(inputs, mask=mask)\n",
    "        else:  # vision\n",
    "            features = model.vision_encoder(inputs)\n",
    "    torch.cuda.synchronize()\n",
    "    end_time = time.time()\n",
    "    return (end_time - start_time) * 1000  # convert to milliseconds\n",
    "\n",
    "\n",
    "with torch.no_grad():\n",
    "    text_features = model.text_encoder(text_inputs, mask=text_masks)\n",
    "    text_features /= text_features.norm(dim=-1, keepdim=True)\n",
    "\n",
    "image_features_all = []\n",
    "image_indices = []\n",
    "total = 0\n",
    "with torch.no_grad():\n",
    "    for data in test_loader:\n",
    "        images = data[\"image\"].to(device)\n",
    "        batch_size = images.shape[0]\n",
    "        batch_indices = torch.arange(total, total + batch_size).to(device)\n",
    "        image_features = model.vision_encoder(images)\n",
    "        image_features /= image_features.norm(dim=-1, keepdim=True)\n",
    "        image_features_all.append(image_features)\n",
    "        image_indices.append(batch_indices)\n",
    "        total += batch_size\n",
    "image_features_all = torch.cat(image_features_all, dim=0)\n",
    "image_indices = torch.cat(image_indices, dim=0)\n",
    "\n",
    "k_values = [1, 5, 10]\n",
    "cosine_similarities_t2i = {k: 0 for k in k_values}\n",
    "cosine_similarities_i2i = {k: 0 for k in k_values}\n",
    "total = 0\n",
    "\n",
    "with torch.no_grad():\n",
    "    for data in test_loader:\n",
    "        images = data[\"image\"].to(device)\n",
    "        batch_size = images.shape[0]\n",
    "        batch_indices = torch.arange(total, total + batch_size).to(device)\n",
    "\n",
    "        # Compute image features\n",
    "        image_features = model.vision_encoder(images)\n",
    "        image_features /= image_features.norm(dim=-1, keepdim=True)\n",
    "\n",
    "        # Text-to-image retrieval\n",
    "        similarity_t2i = text_features[batch_indices] @ image_features_all.T\n",
    "        _, top_k_indices_t2i = similarity_t2i.topk(max(k_values), dim=1)\n",
    "\n",
    "        # Image-to-image retrieval\n",
    "        similarity_i2i = image_features @ image_features_all.T\n",
    "        # Exclude self-matches\n",
    "        similarity_i2i[torch.arange(batch_size, device=device), batch_indices] = float('-inf')\n",
    "        _, top_k_indices_i2i = similarity_i2i.topk(max(k_values), dim=1)\n",
    "\n",
    "        for k in k_values:\n",
    "            top_k_similarities_t2i = similarity_t2i.gather(1, top_k_indices_t2i[:, :k])\n",
    "            cosine_similarities_t2i[k] += top_k_similarities_t2i.mean().item() * batch_size\n",
    "\n",
    "        for k in k_values:\n",
    "            top_k_similarities_i2i = similarity_i2i.gather(1, top_k_indices_i2i[:, :k])\n",
    "            cosine_similarities_i2i[k] += top_k_similarities_i2i.mean().item() * batch_size\n",
    "\n",
    "        total += batch_size\n",
    "\n",
    "# 1. text encoder inference\n",
    "text_inputs_gpu = text_inputs.to(device)\n",
    "text_masks_gpu = text_masks.to(device)\n",
    "model.to(device)\n",
    "gpu_text_time = time_gpu_inference(model, text_inputs_gpu, 'text', mask=text_masks_gpu)\n",
    "\n",
    "# 2. vision encoder inference\n",
    "for data in test_loader:\n",
    "    images = data[\"image\"].to(device)\n",
    "    gpu_vision_time = time_gpu_inference(model, images, 'vision')\n",
    "    break  \n",
    "\n",
    "\n",
    "print(\"\\nText-to-Image Metrics:\")\n",
    "for k in k_values:\n",
    "    mean_cosine_t2i = cosine_similarities_t2i[k] / total\n",
    "    print(f'Mean Cosine Similarity@Top-{k}: {mean_cosine_t2i:.4f}')\n",
    "\n",
    "print(\"\\nImage-to-Image Metrics:\")\n",
    "for k in k_values:\n",
    "    mean_cosine_i2i = cosine_similarities_i2i[k] / total\n",
    "    print(f'Mean Cosine Similarity@Top-{k}: {mean_cosine_i2i:.4f}')\n",
    "\n",
    "print(\"\\nInference Times (milliseconds):\")\n",
    "print(f\"Text Encoder: {gpu_text_time:.2f} ms\")\n",
    "print(f\"Vision Encoder: {gpu_vision_time:.2f} ms\")"
   ]
  }
 ],
 "metadata": {
  "colab": {
   "provenance": []
  },
  "kernelspec": {
   "display_name": ".venv",
   "language": "python",
   "name": "python3"
  },
  "language_info": {
   "codemirror_mode": {
    "name": "ipython",
    "version": 3
   },
   "file_extension": ".py",
   "mimetype": "text/x-python",
   "name": "python",
   "nbconvert_exporter": "python",
   "pygments_lexer": "ipython3",
   "version": "3.12.3"
  },
  "widgets": {
   "application/vnd.jupyter.widget-state+json": {
    "03c4b83459a344e1ae6a476c4812e6e9": {
     "model_module": "@jupyter-widgets/controls",
     "model_module_version": "1.5.0",
     "model_name": "HTMLModel",
     "state": {
      "_dom_classes": [],
      "_model_module": "@jupyter-widgets/controls",
      "_model_module_version": "1.5.0",
      "_model_name": "HTMLModel",
      "_view_count": null,
      "_view_module": "@jupyter-widgets/controls",
      "_view_module_version": "1.5.0",
      "_view_name": "HTMLView",
      "description": "",
      "description_tooltip": null,
      "layout": "IPY_MODEL_53481d21aba64fe59a7ce37dcf95ac5b",
      "placeholder": "​",
      "style": "IPY_MODEL_9003c341a40a40f182f072df35baea57",
      "value": "merges.txt: 100%"
     }
    },
    "0885c1aea9854ff09f2561a90f0e4778": {
     "model_module": "@jupyter-widgets/controls",
     "model_module_version": "1.5.0",
     "model_name": "FloatProgressModel",
     "state": {
      "_dom_classes": [],
      "_model_module": "@jupyter-widgets/controls",
      "_model_module_version": "1.5.0",
      "_model_name": "FloatProgressModel",
      "_view_count": null,
      "_view_module": "@jupyter-widgets/controls",
      "_view_module_version": "1.5.0",
      "_view_name": "ProgressView",
      "bar_style": "success",
      "description": "",
      "description_tooltip": null,
      "layout": "IPY_MODEL_95ddc1d0fe044c0294d02f7f0fdc3fdf",
      "max": 524657,
      "min": 0,
      "orientation": "horizontal",
      "style": "IPY_MODEL_ed845e7c09db414383d0bf404bba439e",
      "value": 524657
     }
    },
    "0d9c12b31056420abda0fe8459765e7e": {
     "model_module": "@jupyter-widgets/controls",
     "model_module_version": "1.5.0",
     "model_name": "DescriptionStyleModel",
     "state": {
      "_model_module": "@jupyter-widgets/controls",
      "_model_module_version": "1.5.0",
      "_model_name": "DescriptionStyleModel",
      "_view_count": null,
      "_view_module": "@jupyter-widgets/base",
      "_view_module_version": "1.2.0",
      "_view_name": "StyleView",
      "description_width": ""
     }
    },
    "0fe7b9d616d941e59799f3808a859f10": {
     "model_module": "@jupyter-widgets/controls",
     "model_module_version": "1.5.0",
     "model_name": "HTMLModel",
     "state": {
      "_dom_classes": [],
      "_model_module": "@jupyter-widgets/controls",
      "_model_module_version": "1.5.0",
      "_model_name": "HTMLModel",
      "_view_count": null,
      "_view_module": "@jupyter-widgets/controls",
      "_view_module_version": "1.5.0",
      "_view_name": "HTMLView",
      "description": "",
      "description_tooltip": null,
      "layout": "IPY_MODEL_da12d0d839ba426e9b3b1073b76ae2d2",
      "placeholder": "​",
      "style": "IPY_MODEL_f2c8e2473508490d8cfb6da96e50ed77",
      "value": "pytorch_model.bin: 100%"
     }
    },
    "11f18a1ae02f48609551e7e23afcc7aa": {
     "model_module": "@jupyter-widgets/controls",
     "model_module_version": "1.5.0",
     "model_name": "ProgressStyleModel",
     "state": {
      "_model_module": "@jupyter-widgets/controls",
      "_model_module_version": "1.5.0",
      "_model_name": "ProgressStyleModel",
      "_view_count": null,
      "_view_module": "@jupyter-widgets/base",
      "_view_module_version": "1.2.0",
      "_view_name": "StyleView",
      "bar_color": null,
      "description_width": ""
     }
    },
    "156ca724507f4b5fb4d05e0f2cd80f92": {
     "model_module": "@jupyter-widgets/controls",
     "model_module_version": "1.5.0",
     "model_name": "DescriptionStyleModel",
     "state": {
      "_model_module": "@jupyter-widgets/controls",
      "_model_module_version": "1.5.0",
      "_model_name": "DescriptionStyleModel",
      "_view_count": null,
      "_view_module": "@jupyter-widgets/base",
      "_view_module_version": "1.2.0",
      "_view_name": "StyleView",
      "description_width": ""
     }
    },
    "1898dcfcd7fd4066be24c8a8f387dc7a": {
     "model_module": "@jupyter-widgets/base",
     "model_module_version": "1.2.0",
     "model_name": "LayoutModel",
     "state": {
      "_model_module": "@jupyter-widgets/base",
      "_model_module_version": "1.2.0",
      "_model_name": "LayoutModel",
      "_view_count": null,
      "_view_module": "@jupyter-widgets/base",
      "_view_module_version": "1.2.0",
      "_view_name": "LayoutView",
      "align_content": null,
      "align_items": null,
      "align_self": null,
      "border": null,
      "bottom": null,
      "display": null,
      "flex": null,
      "flex_flow": null,
      "grid_area": null,
      "grid_auto_columns": null,
      "grid_auto_flow": null,
      "grid_auto_rows": null,
      "grid_column": null,
      "grid_gap": null,
      "grid_row": null,
      "grid_template_areas": null,
      "grid_template_columns": null,
      "grid_template_rows": null,
      "height": null,
      "justify_content": null,
      "justify_items": null,
      "left": null,
      "margin": null,
      "max_height": null,
      "max_width": null,
      "min_height": null,
      "min_width": null,
      "object_fit": null,
      "object_position": null,
      "order": null,
      "overflow": null,
      "overflow_x": null,
      "overflow_y": null,
      "padding": null,
      "right": null,
      "top": null,
      "visibility": null,
      "width": null
     }
    },
    "19dfebe5181a4c77acf36d27a92f1608": {
     "model_module": "@jupyter-widgets/controls",
     "model_module_version": "1.5.0",
     "model_name": "HBoxModel",
     "state": {
      "_dom_classes": [],
      "_model_module": "@jupyter-widgets/controls",
      "_model_module_version": "1.5.0",
      "_model_name": "HBoxModel",
      "_view_count": null,
      "_view_module": "@jupyter-widgets/controls",
      "_view_module_version": "1.5.0",
      "_view_name": "HBoxView",
      "box_style": "",
      "children": [
       "IPY_MODEL_53a150347c23427d8cc0385d26bfb4c7",
       "IPY_MODEL_b3d65b9a17bf48ee98ea4772045f7ed7",
       "IPY_MODEL_cb8493797d5f4e678487d83a461421e8"
      ],
      "layout": "IPY_MODEL_b6298812217f4bb290bb4eb3ead7751c"
     }
    },
    "1b28fe11d39f4df9a3b180068b883f4d": {
     "model_module": "@jupyter-widgets/controls",
     "model_module_version": "1.5.0",
     "model_name": "HTMLModel",
     "state": {
      "_dom_classes": [],
      "_model_module": "@jupyter-widgets/controls",
      "_model_module_version": "1.5.0",
      "_model_name": "HTMLModel",
      "_view_count": null,
      "_view_module": "@jupyter-widgets/controls",
      "_view_module_version": "1.5.0",
      "_view_name": "HTMLView",
      "description": "",
      "description_tooltip": null,
      "layout": "IPY_MODEL_7ee9565a23ec4bfba644ad049838f582",
      "placeholder": "​",
      "style": "IPY_MODEL_9bd23d819866474297ead2a07d215683",
      "value": " 525k/525k [00:00&lt;00:00, 7.67MB/s]"
     }
    },
    "20629469afae4f9ea543ef7ec471d93c": {
     "model_module": "@jupyter-widgets/controls",
     "model_module_version": "1.5.0",
     "model_name": "HBoxModel",
     "state": {
      "_dom_classes": [],
      "_model_module": "@jupyter-widgets/controls",
      "_model_module_version": "1.5.0",
      "_model_name": "HBoxModel",
      "_view_count": null,
      "_view_module": "@jupyter-widgets/controls",
      "_view_module_version": "1.5.0",
      "_view_name": "HBoxView",
      "box_style": "",
      "children": [
       "IPY_MODEL_dd9c7f71c12c42a7b4172049a9fa4842",
       "IPY_MODEL_6ecdbb0360c6403cb08eaa409284b603",
       "IPY_MODEL_f32bc5e2aa5944b99d38a9528bed3644"
      ],
      "layout": "IPY_MODEL_38593f957f874d4da72302cf48fb377e"
     }
    },
    "2842f448ef9845d3904a7a9ad848ff49": {
     "model_module": "@jupyter-widgets/controls",
     "model_module_version": "1.5.0",
     "model_name": "HTMLModel",
     "state": {
      "_dom_classes": [],
      "_model_module": "@jupyter-widgets/controls",
      "_model_module_version": "1.5.0",
      "_model_name": "HTMLModel",
      "_view_count": null,
      "_view_module": "@jupyter-widgets/controls",
      "_view_module_version": "1.5.0",
      "_view_name": "HTMLView",
      "description": "",
      "description_tooltip": null,
      "layout": "IPY_MODEL_e1f2f3830d0b44bbbeb52babbd94e961",
      "placeholder": "​",
      "style": "IPY_MODEL_b1c1b884032f4fc899fb6dc3336e923f",
      "value": " 605M/605M [00:09&lt;00:00, 55.7MB/s]"
     }
    },
    "289223715a3d4740909e8d5b75cc54eb": {
     "model_module": "@jupyter-widgets/controls",
     "model_module_version": "1.5.0",
     "model_name": "HTMLModel",
     "state": {
      "_dom_classes": [],
      "_model_module": "@jupyter-widgets/controls",
      "_model_module_version": "1.5.0",
      "_model_name": "HTMLModel",
      "_view_count": null,
      "_view_module": "@jupyter-widgets/controls",
      "_view_module_version": "1.5.0",
      "_view_name": "HTMLView",
      "description": "",
      "description_tooltip": null,
      "layout": "IPY_MODEL_395cd147f18d4ad88b22645bf0f2bcdf",
      "placeholder": "​",
      "style": "IPY_MODEL_905d4dd70a9943d993010510e14f2900",
      "value": "tokenizer_config.json: 100%"
     }
    },
    "2acbb06391124686a7865540d4f0ed94": {
     "model_module": "@jupyter-widgets/base",
     "model_module_version": "1.2.0",
     "model_name": "LayoutModel",
     "state": {
      "_model_module": "@jupyter-widgets/base",
      "_model_module_version": "1.2.0",
      "_model_name": "LayoutModel",
      "_view_count": null,
      "_view_module": "@jupyter-widgets/base",
      "_view_module_version": "1.2.0",
      "_view_name": "LayoutView",
      "align_content": null,
      "align_items": null,
      "align_self": null,
      "border": null,
      "bottom": null,
      "display": null,
      "flex": null,
      "flex_flow": null,
      "grid_area": null,
      "grid_auto_columns": null,
      "grid_auto_flow": null,
      "grid_auto_rows": null,
      "grid_column": null,
      "grid_gap": null,
      "grid_row": null,
      "grid_template_areas": null,
      "grid_template_columns": null,
      "grid_template_rows": null,
      "height": null,
      "justify_content": null,
      "justify_items": null,
      "left": null,
      "margin": null,
      "max_height": null,
      "max_width": null,
      "min_height": null,
      "min_width": null,
      "object_fit": null,
      "object_position": null,
      "order": null,
      "overflow": null,
      "overflow_x": null,
      "overflow_y": null,
      "padding": null,
      "right": null,
      "top": null,
      "visibility": null,
      "width": null
     }
    },
    "2baff52171e44a31a4f545adcf263c73": {
     "model_module": "@jupyter-widgets/base",
     "model_module_version": "1.2.0",
     "model_name": "LayoutModel",
     "state": {
      "_model_module": "@jupyter-widgets/base",
      "_model_module_version": "1.2.0",
      "_model_name": "LayoutModel",
      "_view_count": null,
      "_view_module": "@jupyter-widgets/base",
      "_view_module_version": "1.2.0",
      "_view_name": "LayoutView",
      "align_content": null,
      "align_items": null,
      "align_self": null,
      "border": null,
      "bottom": null,
      "display": null,
      "flex": null,
      "flex_flow": null,
      "grid_area": null,
      "grid_auto_columns": null,
      "grid_auto_flow": null,
      "grid_auto_rows": null,
      "grid_column": null,
      "grid_gap": null,
      "grid_row": null,
      "grid_template_areas": null,
      "grid_template_columns": null,
      "grid_template_rows": null,
      "height": null,
      "justify_content": null,
      "justify_items": null,
      "left": null,
      "margin": null,
      "max_height": null,
      "max_width": null,
      "min_height": null,
      "min_width": null,
      "object_fit": null,
      "object_position": null,
      "order": null,
      "overflow": null,
      "overflow_x": null,
      "overflow_y": null,
      "padding": null,
      "right": null,
      "top": null,
      "visibility": null,
      "width": null
     }
    },
    "2cf075518ef14080bd4a69d66ef81b9a": {
     "model_module": "@jupyter-widgets/controls",
     "model_module_version": "1.5.0",
     "model_name": "HTMLModel",
     "state": {
      "_dom_classes": [],
      "_model_module": "@jupyter-widgets/controls",
      "_model_module_version": "1.5.0",
      "_model_name": "HTMLModel",
      "_view_count": null,
      "_view_module": "@jupyter-widgets/controls",
      "_view_module_version": "1.5.0",
      "_view_name": "HTMLView",
      "description": "",
      "description_tooltip": null,
      "layout": "IPY_MODEL_85125537355e461a80d64f583d384b88",
      "placeholder": "​",
      "style": "IPY_MODEL_764631abd7324395bc0b3d6f5183af2b",
      "value": " 4.19k/4.19k [00:00&lt;00:00, 32.6kB/s]"
     }
    },
    "30343ac2dddb460f80d82617c2d89283": {
     "model_module": "@jupyter-widgets/controls",
     "model_module_version": "1.5.0",
     "model_name": "ProgressStyleModel",
     "state": {
      "_model_module": "@jupyter-widgets/controls",
      "_model_module_version": "1.5.0",
      "_model_name": "ProgressStyleModel",
      "_view_count": null,
      "_view_module": "@jupyter-widgets/base",
      "_view_module_version": "1.2.0",
      "_view_name": "StyleView",
      "bar_color": null,
      "description_width": ""
     }
    },
    "33955f628dd04a4cb447a108c2ac30d9": {
     "model_module": "@jupyter-widgets/base",
     "model_module_version": "1.2.0",
     "model_name": "LayoutModel",
     "state": {
      "_model_module": "@jupyter-widgets/base",
      "_model_module_version": "1.2.0",
      "_model_name": "LayoutModel",
      "_view_count": null,
      "_view_module": "@jupyter-widgets/base",
      "_view_module_version": "1.2.0",
      "_view_name": "LayoutView",
      "align_content": null,
      "align_items": null,
      "align_self": null,
      "border": null,
      "bottom": null,
      "display": null,
      "flex": null,
      "flex_flow": null,
      "grid_area": null,
      "grid_auto_columns": null,
      "grid_auto_flow": null,
      "grid_auto_rows": null,
      "grid_column": null,
      "grid_gap": null,
      "grid_row": null,
      "grid_template_areas": null,
      "grid_template_columns": null,
      "grid_template_rows": null,
      "height": null,
      "justify_content": null,
      "justify_items": null,
      "left": null,
      "margin": null,
      "max_height": null,
      "max_width": null,
      "min_height": null,
      "min_width": null,
      "object_fit": null,
      "object_position": null,
      "order": null,
      "overflow": null,
      "overflow_x": null,
      "overflow_y": null,
      "padding": null,
      "right": null,
      "top": null,
      "visibility": null,
      "width": null
     }
    },
    "38593f957f874d4da72302cf48fb377e": {
     "model_module": "@jupyter-widgets/base",
     "model_module_version": "1.2.0",
     "model_name": "LayoutModel",
     "state": {
      "_model_module": "@jupyter-widgets/base",
      "_model_module_version": "1.2.0",
      "_model_name": "LayoutModel",
      "_view_count": null,
      "_view_module": "@jupyter-widgets/base",
      "_view_module_version": "1.2.0",
      "_view_name": "LayoutView",
      "align_content": null,
      "align_items": null,
      "align_self": null,
      "border": null,
      "bottom": null,
      "display": null,
      "flex": null,
      "flex_flow": null,
      "grid_area": null,
      "grid_auto_columns": null,
      "grid_auto_flow": null,
      "grid_auto_rows": null,
      "grid_column": null,
      "grid_gap": null,
      "grid_row": null,
      "grid_template_areas": null,
      "grid_template_columns": null,
      "grid_template_rows": null,
      "height": null,
      "justify_content": null,
      "justify_items": null,
      "left": null,
      "margin": null,
      "max_height": null,
      "max_width": null,
      "min_height": null,
      "min_width": null,
      "object_fit": null,
      "object_position": null,
      "order": null,
      "overflow": null,
      "overflow_x": null,
      "overflow_y": null,
      "padding": null,
      "right": null,
      "top": null,
      "visibility": null,
      "width": null
     }
    },
    "393abac535ad401f9dd4dcaaffde436e": {
     "model_module": "@jupyter-widgets/base",
     "model_module_version": "1.2.0",
     "model_name": "LayoutModel",
     "state": {
      "_model_module": "@jupyter-widgets/base",
      "_model_module_version": "1.2.0",
      "_model_name": "LayoutModel",
      "_view_count": null,
      "_view_module": "@jupyter-widgets/base",
      "_view_module_version": "1.2.0",
      "_view_name": "LayoutView",
      "align_content": null,
      "align_items": null,
      "align_self": null,
      "border": null,
      "bottom": null,
      "display": null,
      "flex": null,
      "flex_flow": null,
      "grid_area": null,
      "grid_auto_columns": null,
      "grid_auto_flow": null,
      "grid_auto_rows": null,
      "grid_column": null,
      "grid_gap": null,
      "grid_row": null,
      "grid_template_areas": null,
      "grid_template_columns": null,
      "grid_template_rows": null,
      "height": null,
      "justify_content": null,
      "justify_items": null,
      "left": null,
      "margin": null,
      "max_height": null,
      "max_width": null,
      "min_height": null,
      "min_width": null,
      "object_fit": null,
      "object_position": null,
      "order": null,
      "overflow": null,
      "overflow_x": null,
      "overflow_y": null,
      "padding": null,
      "right": null,
      "top": null,
      "visibility": null,
      "width": null
     }
    },
    "395cd147f18d4ad88b22645bf0f2bcdf": {
     "model_module": "@jupyter-widgets/base",
     "model_module_version": "1.2.0",
     "model_name": "LayoutModel",
     "state": {
      "_model_module": "@jupyter-widgets/base",
      "_model_module_version": "1.2.0",
      "_model_name": "LayoutModel",
      "_view_count": null,
      "_view_module": "@jupyter-widgets/base",
      "_view_module_version": "1.2.0",
      "_view_name": "LayoutView",
      "align_content": null,
      "align_items": null,
      "align_self": null,
      "border": null,
      "bottom": null,
      "display": null,
      "flex": null,
      "flex_flow": null,
      "grid_area": null,
      "grid_auto_columns": null,
      "grid_auto_flow": null,
      "grid_auto_rows": null,
      "grid_column": null,
      "grid_gap": null,
      "grid_row": null,
      "grid_template_areas": null,
      "grid_template_columns": null,
      "grid_template_rows": null,
      "height": null,
      "justify_content": null,
      "justify_items": null,
      "left": null,
      "margin": null,
      "max_height": null,
      "max_width": null,
      "min_height": null,
      "min_width": null,
      "object_fit": null,
      "object_position": null,
      "order": null,
      "overflow": null,
      "overflow_x": null,
      "overflow_y": null,
      "padding": null,
      "right": null,
      "top": null,
      "visibility": null,
      "width": null
     }
    },
    "4050d3e9519c480d94875b90a989fd66": {
     "model_module": "@jupyter-widgets/base",
     "model_module_version": "1.2.0",
     "model_name": "LayoutModel",
     "state": {
      "_model_module": "@jupyter-widgets/base",
      "_model_module_version": "1.2.0",
      "_model_name": "LayoutModel",
      "_view_count": null,
      "_view_module": "@jupyter-widgets/base",
      "_view_module_version": "1.2.0",
      "_view_name": "LayoutView",
      "align_content": null,
      "align_items": null,
      "align_self": null,
      "border": null,
      "bottom": null,
      "display": null,
      "flex": null,
      "flex_flow": null,
      "grid_area": null,
      "grid_auto_columns": null,
      "grid_auto_flow": null,
      "grid_auto_rows": null,
      "grid_column": null,
      "grid_gap": null,
      "grid_row": null,
      "grid_template_areas": null,
      "grid_template_columns": null,
      "grid_template_rows": null,
      "height": null,
      "justify_content": null,
      "justify_items": null,
      "left": null,
      "margin": null,
      "max_height": null,
      "max_width": null,
      "min_height": null,
      "min_width": null,
      "object_fit": null,
      "object_position": null,
      "order": null,
      "overflow": null,
      "overflow_x": null,
      "overflow_y": null,
      "padding": null,
      "right": null,
      "top": null,
      "visibility": null,
      "width": null
     }
    },
    "43dc376ec43d427583f7a1ede49d385a": {
     "model_module": "@jupyter-widgets/base",
     "model_module_version": "1.2.0",
     "model_name": "LayoutModel",
     "state": {
      "_model_module": "@jupyter-widgets/base",
      "_model_module_version": "1.2.0",
      "_model_name": "LayoutModel",
      "_view_count": null,
      "_view_module": "@jupyter-widgets/base",
      "_view_module_version": "1.2.0",
      "_view_name": "LayoutView",
      "align_content": null,
      "align_items": null,
      "align_self": null,
      "border": null,
      "bottom": null,
      "display": null,
      "flex": null,
      "flex_flow": null,
      "grid_area": null,
      "grid_auto_columns": null,
      "grid_auto_flow": null,
      "grid_auto_rows": null,
      "grid_column": null,
      "grid_gap": null,
      "grid_row": null,
      "grid_template_areas": null,
      "grid_template_columns": null,
      "grid_template_rows": null,
      "height": null,
      "justify_content": null,
      "justify_items": null,
      "left": null,
      "margin": null,
      "max_height": null,
      "max_width": null,
      "min_height": null,
      "min_width": null,
      "object_fit": null,
      "object_position": null,
      "order": null,
      "overflow": null,
      "overflow_x": null,
      "overflow_y": null,
      "padding": null,
      "right": null,
      "top": null,
      "visibility": null,
      "width": null
     }
    },
    "4b4df4faa02f4ff485f9292e37e5b724": {
     "model_module": "@jupyter-widgets/controls",
     "model_module_version": "1.5.0",
     "model_name": "ProgressStyleModel",
     "state": {
      "_model_module": "@jupyter-widgets/controls",
      "_model_module_version": "1.5.0",
      "_model_name": "ProgressStyleModel",
      "_view_count": null,
      "_view_module": "@jupyter-widgets/base",
      "_view_module_version": "1.2.0",
      "_view_name": "StyleView",
      "bar_color": null,
      "description_width": ""
     }
    },
    "4c26029037704a1d99ccd315ca1d0686": {
     "model_module": "@jupyter-widgets/controls",
     "model_module_version": "1.5.0",
     "model_name": "HBoxModel",
     "state": {
      "_dom_classes": [],
      "_model_module": "@jupyter-widgets/controls",
      "_model_module_version": "1.5.0",
      "_model_name": "HBoxModel",
      "_view_count": null,
      "_view_module": "@jupyter-widgets/controls",
      "_view_module_version": "1.5.0",
      "_view_name": "HBoxView",
      "box_style": "",
      "children": [
       "IPY_MODEL_b2eb557dc42f465c9181a120c79b440b",
       "IPY_MODEL_a212d4c90688420e8633a83e1dda5354",
       "IPY_MODEL_2cf075518ef14080bd4a69d66ef81b9a"
      ],
      "layout": "IPY_MODEL_4050d3e9519c480d94875b90a989fd66"
     }
    },
    "50353f4dcf7347979b2b59030be9f3a9": {
     "model_module": "@jupyter-widgets/controls",
     "model_module_version": "1.5.0",
     "model_name": "HTMLModel",
     "state": {
      "_dom_classes": [],
      "_model_module": "@jupyter-widgets/controls",
      "_model_module_version": "1.5.0",
      "_model_name": "HTMLModel",
      "_view_count": null,
      "_view_module": "@jupyter-widgets/controls",
      "_view_module_version": "1.5.0",
      "_view_name": "HTMLView",
      "description": "",
      "description_tooltip": null,
      "layout": "IPY_MODEL_5074c44c08eb447c9202d4665180072e",
      "placeholder": "​",
      "style": "IPY_MODEL_0d9c12b31056420abda0fe8459765e7e",
      "value": " 862k/862k [00:00&lt;00:00, 8.05MB/s]"
     }
    },
    "5074c44c08eb447c9202d4665180072e": {
     "model_module": "@jupyter-widgets/base",
     "model_module_version": "1.2.0",
     "model_name": "LayoutModel",
     "state": {
      "_model_module": "@jupyter-widgets/base",
      "_model_module_version": "1.2.0",
      "_model_name": "LayoutModel",
      "_view_count": null,
      "_view_module": "@jupyter-widgets/base",
      "_view_module_version": "1.2.0",
      "_view_name": "LayoutView",
      "align_content": null,
      "align_items": null,
      "align_self": null,
      "border": null,
      "bottom": null,
      "display": null,
      "flex": null,
      "flex_flow": null,
      "grid_area": null,
      "grid_auto_columns": null,
      "grid_auto_flow": null,
      "grid_auto_rows": null,
      "grid_column": null,
      "grid_gap": null,
      "grid_row": null,
      "grid_template_areas": null,
      "grid_template_columns": null,
      "grid_template_rows": null,
      "height": null,
      "justify_content": null,
      "justify_items": null,
      "left": null,
      "margin": null,
      "max_height": null,
      "max_width": null,
      "min_height": null,
      "min_width": null,
      "object_fit": null,
      "object_position": null,
      "order": null,
      "overflow": null,
      "overflow_x": null,
      "overflow_y": null,
      "padding": null,
      "right": null,
      "top": null,
      "visibility": null,
      "width": null
     }
    },
    "511f5235087b489a9086b2dfee95bc6c": {
     "model_module": "@jupyter-widgets/controls",
     "model_module_version": "1.5.0",
     "model_name": "DescriptionStyleModel",
     "state": {
      "_model_module": "@jupyter-widgets/controls",
      "_model_module_version": "1.5.0",
      "_model_name": "DescriptionStyleModel",
      "_view_count": null,
      "_view_module": "@jupyter-widgets/base",
      "_view_module_version": "1.2.0",
      "_view_name": "StyleView",
      "description_width": ""
     }
    },
    "53481d21aba64fe59a7ce37dcf95ac5b": {
     "model_module": "@jupyter-widgets/base",
     "model_module_version": "1.2.0",
     "model_name": "LayoutModel",
     "state": {
      "_model_module": "@jupyter-widgets/base",
      "_model_module_version": "1.2.0",
      "_model_name": "LayoutModel",
      "_view_count": null,
      "_view_module": "@jupyter-widgets/base",
      "_view_module_version": "1.2.0",
      "_view_name": "LayoutView",
      "align_content": null,
      "align_items": null,
      "align_self": null,
      "border": null,
      "bottom": null,
      "display": null,
      "flex": null,
      "flex_flow": null,
      "grid_area": null,
      "grid_auto_columns": null,
      "grid_auto_flow": null,
      "grid_auto_rows": null,
      "grid_column": null,
      "grid_gap": null,
      "grid_row": null,
      "grid_template_areas": null,
      "grid_template_columns": null,
      "grid_template_rows": null,
      "height": null,
      "justify_content": null,
      "justify_items": null,
      "left": null,
      "margin": null,
      "max_height": null,
      "max_width": null,
      "min_height": null,
      "min_width": null,
      "object_fit": null,
      "object_position": null,
      "order": null,
      "overflow": null,
      "overflow_x": null,
      "overflow_y": null,
      "padding": null,
      "right": null,
      "top": null,
      "visibility": null,
      "width": null
     }
    },
    "53a150347c23427d8cc0385d26bfb4c7": {
     "model_module": "@jupyter-widgets/controls",
     "model_module_version": "1.5.0",
     "model_name": "HTMLModel",
     "state": {
      "_dom_classes": [],
      "_model_module": "@jupyter-widgets/controls",
      "_model_module_version": "1.5.0",
      "_model_name": "HTMLModel",
      "_view_count": null,
      "_view_module": "@jupyter-widgets/controls",
      "_view_module_version": "1.5.0",
      "_view_name": "HTMLView",
      "description": "",
      "description_tooltip": null,
      "layout": "IPY_MODEL_8ce92cb91c3b4250ba305f8fa999f3c7",
      "placeholder": "​",
      "style": "IPY_MODEL_511f5235087b489a9086b2dfee95bc6c",
      "value": "tokenizer.json: 100%"
     }
    },
    "6ac8888b2dbb4da29571a3abc2eb7b8a": {
     "model_module": "@jupyter-widgets/base",
     "model_module_version": "1.2.0",
     "model_name": "LayoutModel",
     "state": {
      "_model_module": "@jupyter-widgets/base",
      "_model_module_version": "1.2.0",
      "_model_name": "LayoutModel",
      "_view_count": null,
      "_view_module": "@jupyter-widgets/base",
      "_view_module_version": "1.2.0",
      "_view_name": "LayoutView",
      "align_content": null,
      "align_items": null,
      "align_self": null,
      "border": null,
      "bottom": null,
      "display": null,
      "flex": null,
      "flex_flow": null,
      "grid_area": null,
      "grid_auto_columns": null,
      "grid_auto_flow": null,
      "grid_auto_rows": null,
      "grid_column": null,
      "grid_gap": null,
      "grid_row": null,
      "grid_template_areas": null,
      "grid_template_columns": null,
      "grid_template_rows": null,
      "height": null,
      "justify_content": null,
      "justify_items": null,
      "left": null,
      "margin": null,
      "max_height": null,
      "max_width": null,
      "min_height": null,
      "min_width": null,
      "object_fit": null,
      "object_position": null,
      "order": null,
      "overflow": null,
      "overflow_x": null,
      "overflow_y": null,
      "padding": null,
      "right": null,
      "top": null,
      "visibility": null,
      "width": null
     }
    },
    "6b034c50e3dc42a381e27e22d7947e78": {
     "model_module": "@jupyter-widgets/base",
     "model_module_version": "1.2.0",
     "model_name": "LayoutModel",
     "state": {
      "_model_module": "@jupyter-widgets/base",
      "_model_module_version": "1.2.0",
      "_model_name": "LayoutModel",
      "_view_count": null,
      "_view_module": "@jupyter-widgets/base",
      "_view_module_version": "1.2.0",
      "_view_name": "LayoutView",
      "align_content": null,
      "align_items": null,
      "align_self": null,
      "border": null,
      "bottom": null,
      "display": null,
      "flex": null,
      "flex_flow": null,
      "grid_area": null,
      "grid_auto_columns": null,
      "grid_auto_flow": null,
      "grid_auto_rows": null,
      "grid_column": null,
      "grid_gap": null,
      "grid_row": null,
      "grid_template_areas": null,
      "grid_template_columns": null,
      "grid_template_rows": null,
      "height": null,
      "justify_content": null,
      "justify_items": null,
      "left": null,
      "margin": null,
      "max_height": null,
      "max_width": null,
      "min_height": null,
      "min_width": null,
      "object_fit": null,
      "object_position": null,
      "order": null,
      "overflow": null,
      "overflow_x": null,
      "overflow_y": null,
      "padding": null,
      "right": null,
      "top": null,
      "visibility": null,
      "width": null
     }
    },
    "6bf5a987c08246e2a4dc3d5429b302b5": {
     "model_module": "@jupyter-widgets/controls",
     "model_module_version": "1.5.0",
     "model_name": "HBoxModel",
     "state": {
      "_dom_classes": [],
      "_model_module": "@jupyter-widgets/controls",
      "_model_module_version": "1.5.0",
      "_model_name": "HBoxModel",
      "_view_count": null,
      "_view_module": "@jupyter-widgets/controls",
      "_view_module_version": "1.5.0",
      "_view_name": "HBoxView",
      "box_style": "",
      "children": [
       "IPY_MODEL_03c4b83459a344e1ae6a476c4812e6e9",
       "IPY_MODEL_0885c1aea9854ff09f2561a90f0e4778",
       "IPY_MODEL_1b28fe11d39f4df9a3b180068b883f4d"
      ],
      "layout": "IPY_MODEL_6b034c50e3dc42a381e27e22d7947e78"
     }
    },
    "6ecdbb0360c6403cb08eaa409284b603": {
     "model_module": "@jupyter-widgets/controls",
     "model_module_version": "1.5.0",
     "model_name": "FloatProgressModel",
     "state": {
      "_dom_classes": [],
      "_model_module": "@jupyter-widgets/controls",
      "_model_module_version": "1.5.0",
      "_model_name": "FloatProgressModel",
      "_view_count": null,
      "_view_module": "@jupyter-widgets/controls",
      "_view_module_version": "1.5.0",
      "_view_name": "ProgressView",
      "bar_style": "success",
      "description": "",
      "description_tooltip": null,
      "layout": "IPY_MODEL_2acbb06391124686a7865540d4f0ed94",
      "max": 316,
      "min": 0,
      "orientation": "horizontal",
      "style": "IPY_MODEL_4b4df4faa02f4ff485f9292e37e5b724",
      "value": 316
     }
    },
    "70fbca1ddaa84165880a05ade0a235eb": {
     "model_module": "@jupyter-widgets/controls",
     "model_module_version": "1.5.0",
     "model_name": "HBoxModel",
     "state": {
      "_dom_classes": [],
      "_model_module": "@jupyter-widgets/controls",
      "_model_module_version": "1.5.0",
      "_model_name": "HBoxModel",
      "_view_count": null,
      "_view_module": "@jupyter-widgets/controls",
      "_view_module_version": "1.5.0",
      "_view_name": "HBoxView",
      "box_style": "",
      "children": [
       "IPY_MODEL_fae433b4ea404ad2bdf09c2ba629f28b",
       "IPY_MODEL_9efd65a3707f47a7b080ad1d955c9f81",
       "IPY_MODEL_50353f4dcf7347979b2b59030be9f3a9"
      ],
      "layout": "IPY_MODEL_d81a83a6c9274aaaa9bc5187bff579cf"
     }
    },
    "764631abd7324395bc0b3d6f5183af2b": {
     "model_module": "@jupyter-widgets/controls",
     "model_module_version": "1.5.0",
     "model_name": "DescriptionStyleModel",
     "state": {
      "_model_module": "@jupyter-widgets/controls",
      "_model_module_version": "1.5.0",
      "_model_name": "DescriptionStyleModel",
      "_view_count": null,
      "_view_module": "@jupyter-widgets/base",
      "_view_module_version": "1.2.0",
      "_view_name": "StyleView",
      "description_width": ""
     }
    },
    "7af46bdfb54f417cb3f1e9e7ee70625e": {
     "model_module": "@jupyter-widgets/base",
     "model_module_version": "1.2.0",
     "model_name": "LayoutModel",
     "state": {
      "_model_module": "@jupyter-widgets/base",
      "_model_module_version": "1.2.0",
      "_model_name": "LayoutModel",
      "_view_count": null,
      "_view_module": "@jupyter-widgets/base",
      "_view_module_version": "1.2.0",
      "_view_name": "LayoutView",
      "align_content": null,
      "align_items": null,
      "align_self": null,
      "border": null,
      "bottom": null,
      "display": null,
      "flex": null,
      "flex_flow": null,
      "grid_area": null,
      "grid_auto_columns": null,
      "grid_auto_flow": null,
      "grid_auto_rows": null,
      "grid_column": null,
      "grid_gap": null,
      "grid_row": null,
      "grid_template_areas": null,
      "grid_template_columns": null,
      "grid_template_rows": null,
      "height": null,
      "justify_content": null,
      "justify_items": null,
      "left": null,
      "margin": null,
      "max_height": null,
      "max_width": null,
      "min_height": null,
      "min_width": null,
      "object_fit": null,
      "object_position": null,
      "order": null,
      "overflow": null,
      "overflow_x": null,
      "overflow_y": null,
      "padding": null,
      "right": null,
      "top": null,
      "visibility": null,
      "width": null
     }
    },
    "7cac92df2c7b4d46af10acb37aec845e": {
     "model_module": "@jupyter-widgets/base",
     "model_module_version": "1.2.0",
     "model_name": "LayoutModel",
     "state": {
      "_model_module": "@jupyter-widgets/base",
      "_model_module_version": "1.2.0",
      "_model_name": "LayoutModel",
      "_view_count": null,
      "_view_module": "@jupyter-widgets/base",
      "_view_module_version": "1.2.0",
      "_view_name": "LayoutView",
      "align_content": null,
      "align_items": null,
      "align_self": null,
      "border": null,
      "bottom": null,
      "display": null,
      "flex": null,
      "flex_flow": null,
      "grid_area": null,
      "grid_auto_columns": null,
      "grid_auto_flow": null,
      "grid_auto_rows": null,
      "grid_column": null,
      "grid_gap": null,
      "grid_row": null,
      "grid_template_areas": null,
      "grid_template_columns": null,
      "grid_template_rows": null,
      "height": null,
      "justify_content": null,
      "justify_items": null,
      "left": null,
      "margin": null,
      "max_height": null,
      "max_width": null,
      "min_height": null,
      "min_width": null,
      "object_fit": null,
      "object_position": null,
      "order": null,
      "overflow": null,
      "overflow_x": null,
      "overflow_y": null,
      "padding": null,
      "right": null,
      "top": null,
      "visibility": null,
      "width": null
     }
    },
    "7ee9565a23ec4bfba644ad049838f582": {
     "model_module": "@jupyter-widgets/base",
     "model_module_version": "1.2.0",
     "model_name": "LayoutModel",
     "state": {
      "_model_module": "@jupyter-widgets/base",
      "_model_module_version": "1.2.0",
      "_model_name": "LayoutModel",
      "_view_count": null,
      "_view_module": "@jupyter-widgets/base",
      "_view_module_version": "1.2.0",
      "_view_name": "LayoutView",
      "align_content": null,
      "align_items": null,
      "align_self": null,
      "border": null,
      "bottom": null,
      "display": null,
      "flex": null,
      "flex_flow": null,
      "grid_area": null,
      "grid_auto_columns": null,
      "grid_auto_flow": null,
      "grid_auto_rows": null,
      "grid_column": null,
      "grid_gap": null,
      "grid_row": null,
      "grid_template_areas": null,
      "grid_template_columns": null,
      "grid_template_rows": null,
      "height": null,
      "justify_content": null,
      "justify_items": null,
      "left": null,
      "margin": null,
      "max_height": null,
      "max_width": null,
      "min_height": null,
      "min_width": null,
      "object_fit": null,
      "object_position": null,
      "order": null,
      "overflow": null,
      "overflow_x": null,
      "overflow_y": null,
      "padding": null,
      "right": null,
      "top": null,
      "visibility": null,
      "width": null
     }
    },
    "85125537355e461a80d64f583d384b88": {
     "model_module": "@jupyter-widgets/base",
     "model_module_version": "1.2.0",
     "model_name": "LayoutModel",
     "state": {
      "_model_module": "@jupyter-widgets/base",
      "_model_module_version": "1.2.0",
      "_model_name": "LayoutModel",
      "_view_count": null,
      "_view_module": "@jupyter-widgets/base",
      "_view_module_version": "1.2.0",
      "_view_name": "LayoutView",
      "align_content": null,
      "align_items": null,
      "align_self": null,
      "border": null,
      "bottom": null,
      "display": null,
      "flex": null,
      "flex_flow": null,
      "grid_area": null,
      "grid_auto_columns": null,
      "grid_auto_flow": null,
      "grid_auto_rows": null,
      "grid_column": null,
      "grid_gap": null,
      "grid_row": null,
      "grid_template_areas": null,
      "grid_template_columns": null,
      "grid_template_rows": null,
      "height": null,
      "justify_content": null,
      "justify_items": null,
      "left": null,
      "margin": null,
      "max_height": null,
      "max_width": null,
      "min_height": null,
      "min_width": null,
      "object_fit": null,
      "object_position": null,
      "order": null,
      "overflow": null,
      "overflow_x": null,
      "overflow_y": null,
      "padding": null,
      "right": null,
      "top": null,
      "visibility": null,
      "width": null
     }
    },
    "88313b0109894bfb89eb83c0b21864ec": {
     "model_module": "@jupyter-widgets/controls",
     "model_module_version": "1.5.0",
     "model_name": "FloatProgressModel",
     "state": {
      "_dom_classes": [],
      "_model_module": "@jupyter-widgets/controls",
      "_model_module_version": "1.5.0",
      "_model_name": "FloatProgressModel",
      "_view_count": null,
      "_view_module": "@jupyter-widgets/controls",
      "_view_module_version": "1.5.0",
      "_view_name": "ProgressView",
      "bar_style": "success",
      "description": "",
      "description_tooltip": null,
      "layout": "IPY_MODEL_b42a794268974577a292cda281f01302",
      "max": 605247071,
      "min": 0,
      "orientation": "horizontal",
      "style": "IPY_MODEL_a18369e652cb402b834415cec69da96e",
      "value": 605247071
     }
    },
    "88c04a110d2345879baf2444ff2d3b35": {
     "model_module": "@jupyter-widgets/base",
     "model_module_version": "1.2.0",
     "model_name": "LayoutModel",
     "state": {
      "_model_module": "@jupyter-widgets/base",
      "_model_module_version": "1.2.0",
      "_model_name": "LayoutModel",
      "_view_count": null,
      "_view_module": "@jupyter-widgets/base",
      "_view_module_version": "1.2.0",
      "_view_name": "LayoutView",
      "align_content": null,
      "align_items": null,
      "align_self": null,
      "border": null,
      "bottom": null,
      "display": null,
      "flex": null,
      "flex_flow": null,
      "grid_area": null,
      "grid_auto_columns": null,
      "grid_auto_flow": null,
      "grid_auto_rows": null,
      "grid_column": null,
      "grid_gap": null,
      "grid_row": null,
      "grid_template_areas": null,
      "grid_template_columns": null,
      "grid_template_rows": null,
      "height": null,
      "justify_content": null,
      "justify_items": null,
      "left": null,
      "margin": null,
      "max_height": null,
      "max_width": null,
      "min_height": null,
      "min_width": null,
      "object_fit": null,
      "object_position": null,
      "order": null,
      "overflow": null,
      "overflow_x": null,
      "overflow_y": null,
      "padding": null,
      "right": null,
      "top": null,
      "visibility": null,
      "width": null
     }
    },
    "88c05b2b6e18471c946d4c445490e07b": {
     "model_module": "@jupyter-widgets/controls",
     "model_module_version": "1.5.0",
     "model_name": "DescriptionStyleModel",
     "state": {
      "_model_module": "@jupyter-widgets/controls",
      "_model_module_version": "1.5.0",
      "_model_name": "DescriptionStyleModel",
      "_view_count": null,
      "_view_module": "@jupyter-widgets/base",
      "_view_module_version": "1.2.0",
      "_view_name": "StyleView",
      "description_width": ""
     }
    },
    "8b6ccf2bbd73419f86927c832c140a24": {
     "model_module": "@jupyter-widgets/controls",
     "model_module_version": "1.5.0",
     "model_name": "HTMLModel",
     "state": {
      "_dom_classes": [],
      "_model_module": "@jupyter-widgets/controls",
      "_model_module_version": "1.5.0",
      "_model_name": "HTMLModel",
      "_view_count": null,
      "_view_module": "@jupyter-widgets/controls",
      "_view_module_version": "1.5.0",
      "_view_name": "HTMLView",
      "description": "",
      "description_tooltip": null,
      "layout": "IPY_MODEL_43dc376ec43d427583f7a1ede49d385a",
      "placeholder": "​",
      "style": "IPY_MODEL_156ca724507f4b5fb4d05e0f2cd80f92",
      "value": " 389/389 [00:00&lt;00:00, 8.70kB/s]"
     }
    },
    "8ce92cb91c3b4250ba305f8fa999f3c7": {
     "model_module": "@jupyter-widgets/base",
     "model_module_version": "1.2.0",
     "model_name": "LayoutModel",
     "state": {
      "_model_module": "@jupyter-widgets/base",
      "_model_module_version": "1.2.0",
      "_model_name": "LayoutModel",
      "_view_count": null,
      "_view_module": "@jupyter-widgets/base",
      "_view_module_version": "1.2.0",
      "_view_name": "LayoutView",
      "align_content": null,
      "align_items": null,
      "align_self": null,
      "border": null,
      "bottom": null,
      "display": null,
      "flex": null,
      "flex_flow": null,
      "grid_area": null,
      "grid_auto_columns": null,
      "grid_auto_flow": null,
      "grid_auto_rows": null,
      "grid_column": null,
      "grid_gap": null,
      "grid_row": null,
      "grid_template_areas": null,
      "grid_template_columns": null,
      "grid_template_rows": null,
      "height": null,
      "justify_content": null,
      "justify_items": null,
      "left": null,
      "margin": null,
      "max_height": null,
      "max_width": null,
      "min_height": null,
      "min_width": null,
      "object_fit": null,
      "object_position": null,
      "order": null,
      "overflow": null,
      "overflow_x": null,
      "overflow_y": null,
      "padding": null,
      "right": null,
      "top": null,
      "visibility": null,
      "width": null
     }
    },
    "9003c341a40a40f182f072df35baea57": {
     "model_module": "@jupyter-widgets/controls",
     "model_module_version": "1.5.0",
     "model_name": "DescriptionStyleModel",
     "state": {
      "_model_module": "@jupyter-widgets/controls",
      "_model_module_version": "1.5.0",
      "_model_name": "DescriptionStyleModel",
      "_view_count": null,
      "_view_module": "@jupyter-widgets/base",
      "_view_module_version": "1.2.0",
      "_view_name": "StyleView",
      "description_width": ""
     }
    },
    "905d4dd70a9943d993010510e14f2900": {
     "model_module": "@jupyter-widgets/controls",
     "model_module_version": "1.5.0",
     "model_name": "DescriptionStyleModel",
     "state": {
      "_model_module": "@jupyter-widgets/controls",
      "_model_module_version": "1.5.0",
      "_model_name": "DescriptionStyleModel",
      "_view_count": null,
      "_view_module": "@jupyter-widgets/base",
      "_view_module_version": "1.2.0",
      "_view_name": "StyleView",
      "description_width": ""
     }
    },
    "926c37c609884fa5a6c5ed1448bb5914": {
     "model_module": "@jupyter-widgets/controls",
     "model_module_version": "1.5.0",
     "model_name": "HTMLModel",
     "state": {
      "_dom_classes": [],
      "_model_module": "@jupyter-widgets/controls",
      "_model_module_version": "1.5.0",
      "_model_name": "HTMLModel",
      "_view_count": null,
      "_view_module": "@jupyter-widgets/controls",
      "_view_module_version": "1.5.0",
      "_view_name": "HTMLView",
      "description": "",
      "description_tooltip": null,
      "layout": "IPY_MODEL_bfa80e550490484392a51dfc86ca40aa",
      "placeholder": "​",
      "style": "IPY_MODEL_fcec47531b4b4c8d99493d893909e9e3",
      "value": "special_tokens_map.json: 100%"
     }
    },
    "95ddc1d0fe044c0294d02f7f0fdc3fdf": {
     "model_module": "@jupyter-widgets/base",
     "model_module_version": "1.2.0",
     "model_name": "LayoutModel",
     "state": {
      "_model_module": "@jupyter-widgets/base",
      "_model_module_version": "1.2.0",
      "_model_name": "LayoutModel",
      "_view_count": null,
      "_view_module": "@jupyter-widgets/base",
      "_view_module_version": "1.2.0",
      "_view_name": "LayoutView",
      "align_content": null,
      "align_items": null,
      "align_self": null,
      "border": null,
      "bottom": null,
      "display": null,
      "flex": null,
      "flex_flow": null,
      "grid_area": null,
      "grid_auto_columns": null,
      "grid_auto_flow": null,
      "grid_auto_rows": null,
      "grid_column": null,
      "grid_gap": null,
      "grid_row": null,
      "grid_template_areas": null,
      "grid_template_columns": null,
      "grid_template_rows": null,
      "height": null,
      "justify_content": null,
      "justify_items": null,
      "left": null,
      "margin": null,
      "max_height": null,
      "max_width": null,
      "min_height": null,
      "min_width": null,
      "object_fit": null,
      "object_position": null,
      "order": null,
      "overflow": null,
      "overflow_x": null,
      "overflow_y": null,
      "padding": null,
      "right": null,
      "top": null,
      "visibility": null,
      "width": null
     }
    },
    "9bd23d819866474297ead2a07d215683": {
     "model_module": "@jupyter-widgets/controls",
     "model_module_version": "1.5.0",
     "model_name": "DescriptionStyleModel",
     "state": {
      "_model_module": "@jupyter-widgets/controls",
      "_model_module_version": "1.5.0",
      "_model_name": "DescriptionStyleModel",
      "_view_count": null,
      "_view_module": "@jupyter-widgets/base",
      "_view_module_version": "1.2.0",
      "_view_name": "StyleView",
      "description_width": ""
     }
    },
    "9c00d39e2b5a435f823674ee32ad15df": {
     "model_module": "@jupyter-widgets/controls",
     "model_module_version": "1.5.0",
     "model_name": "HTMLModel",
     "state": {
      "_dom_classes": [],
      "_model_module": "@jupyter-widgets/controls",
      "_model_module_version": "1.5.0",
      "_model_name": "HTMLModel",
      "_view_count": null,
      "_view_module": "@jupyter-widgets/controls",
      "_view_module_version": "1.5.0",
      "_view_name": "HTMLView",
      "description": "",
      "description_tooltip": null,
      "layout": "IPY_MODEL_7cac92df2c7b4d46af10acb37aec845e",
      "placeholder": "​",
      "style": "IPY_MODEL_d7b026f1e79c4f848b9d49d1536691cb",
      "value": " 592/592 [00:00&lt;00:00, 9.56kB/s]"
     }
    },
    "9d0b390e08ed40e2b1f6fa51e97a5cbc": {
     "model_module": "@jupyter-widgets/controls",
     "model_module_version": "1.5.0",
     "model_name": "FloatProgressModel",
     "state": {
      "_dom_classes": [],
      "_model_module": "@jupyter-widgets/controls",
      "_model_module_version": "1.5.0",
      "_model_name": "FloatProgressModel",
      "_view_count": null,
      "_view_module": "@jupyter-widgets/controls",
      "_view_module_version": "1.5.0",
      "_view_name": "ProgressView",
      "bar_style": "success",
      "description": "",
      "description_tooltip": null,
      "layout": "IPY_MODEL_6ac8888b2dbb4da29571a3abc2eb7b8a",
      "max": 389,
      "min": 0,
      "orientation": "horizontal",
      "style": "IPY_MODEL_f7ea0cc66733435eb2a7299a72a2bb7d",
      "value": 389
     }
    },
    "9efd65a3707f47a7b080ad1d955c9f81": {
     "model_module": "@jupyter-widgets/controls",
     "model_module_version": "1.5.0",
     "model_name": "FloatProgressModel",
     "state": {
      "_dom_classes": [],
      "_model_module": "@jupyter-widgets/controls",
      "_model_module_version": "1.5.0",
      "_model_name": "FloatProgressModel",
      "_view_count": null,
      "_view_module": "@jupyter-widgets/controls",
      "_view_module_version": "1.5.0",
      "_view_name": "ProgressView",
      "bar_style": "success",
      "description": "",
      "description_tooltip": null,
      "layout": "IPY_MODEL_33955f628dd04a4cb447a108c2ac30d9",
      "max": 862328,
      "min": 0,
      "orientation": "horizontal",
      "style": "IPY_MODEL_11f18a1ae02f48609551e7e23afcc7aa",
      "value": 862328
     }
    },
    "9f9648c9eb7a46cabdc3c1ee25b80c4a": {
     "model_module": "@jupyter-widgets/controls",
     "model_module_version": "1.5.0",
     "model_name": "ProgressStyleModel",
     "state": {
      "_model_module": "@jupyter-widgets/controls",
      "_model_module_version": "1.5.0",
      "_model_name": "ProgressStyleModel",
      "_view_count": null,
      "_view_module": "@jupyter-widgets/base",
      "_view_module_version": "1.2.0",
      "_view_name": "StyleView",
      "bar_color": null,
      "description_width": ""
     }
    },
    "a18369e652cb402b834415cec69da96e": {
     "model_module": "@jupyter-widgets/controls",
     "model_module_version": "1.5.0",
     "model_name": "ProgressStyleModel",
     "state": {
      "_model_module": "@jupyter-widgets/controls",
      "_model_module_version": "1.5.0",
      "_model_name": "ProgressStyleModel",
      "_view_count": null,
      "_view_module": "@jupyter-widgets/base",
      "_view_module_version": "1.2.0",
      "_view_name": "StyleView",
      "bar_color": null,
      "description_width": ""
     }
    },
    "a212d4c90688420e8633a83e1dda5354": {
     "model_module": "@jupyter-widgets/controls",
     "model_module_version": "1.5.0",
     "model_name": "FloatProgressModel",
     "state": {
      "_dom_classes": [],
      "_model_module": "@jupyter-widgets/controls",
      "_model_module_version": "1.5.0",
      "_model_name": "FloatProgressModel",
      "_view_count": null,
      "_view_module": "@jupyter-widgets/controls",
      "_view_module_version": "1.5.0",
      "_view_name": "ProgressView",
      "bar_style": "success",
      "description": "",
      "description_tooltip": null,
      "layout": "IPY_MODEL_f8554067899d411c9eaa606c88360b66",
      "max": 4186,
      "min": 0,
      "orientation": "horizontal",
      "style": "IPY_MODEL_30343ac2dddb460f80d82617c2d89283",
      "value": 4186
     }
    },
    "a2bbcf1696d34cedad9c1ded2a648689": {
     "model_module": "@jupyter-widgets/base",
     "model_module_version": "1.2.0",
     "model_name": "LayoutModel",
     "state": {
      "_model_module": "@jupyter-widgets/base",
      "_model_module_version": "1.2.0",
      "_model_name": "LayoutModel",
      "_view_count": null,
      "_view_module": "@jupyter-widgets/base",
      "_view_module_version": "1.2.0",
      "_view_name": "LayoutView",
      "align_content": null,
      "align_items": null,
      "align_self": null,
      "border": null,
      "bottom": null,
      "display": null,
      "flex": null,
      "flex_flow": null,
      "grid_area": null,
      "grid_auto_columns": null,
      "grid_auto_flow": null,
      "grid_auto_rows": null,
      "grid_column": null,
      "grid_gap": null,
      "grid_row": null,
      "grid_template_areas": null,
      "grid_template_columns": null,
      "grid_template_rows": null,
      "height": null,
      "justify_content": null,
      "justify_items": null,
      "left": null,
      "margin": null,
      "max_height": null,
      "max_width": null,
      "min_height": null,
      "min_width": null,
      "object_fit": null,
      "object_position": null,
      "order": null,
      "overflow": null,
      "overflow_x": null,
      "overflow_y": null,
      "padding": null,
      "right": null,
      "top": null,
      "visibility": null,
      "width": null
     }
    },
    "a93aec837c384a1cbfdcb82691ddd592": {
     "model_module": "@jupyter-widgets/controls",
     "model_module_version": "1.5.0",
     "model_name": "HBoxModel",
     "state": {
      "_dom_classes": [],
      "_model_module": "@jupyter-widgets/controls",
      "_model_module_version": "1.5.0",
      "_model_name": "HBoxModel",
      "_view_count": null,
      "_view_module": "@jupyter-widgets/controls",
      "_view_module_version": "1.5.0",
      "_view_name": "HBoxView",
      "box_style": "",
      "children": [
       "IPY_MODEL_926c37c609884fa5a6c5ed1448bb5914",
       "IPY_MODEL_9d0b390e08ed40e2b1f6fa51e97a5cbc",
       "IPY_MODEL_8b6ccf2bbd73419f86927c832c140a24"
      ],
      "layout": "IPY_MODEL_ec13f93cbfcd4f929335daa593663117"
     }
    },
    "ab6b6445fda5431fa6a4b0527be1332a": {
     "model_module": "@jupyter-widgets/base",
     "model_module_version": "1.2.0",
     "model_name": "LayoutModel",
     "state": {
      "_model_module": "@jupyter-widgets/base",
      "_model_module_version": "1.2.0",
      "_model_name": "LayoutModel",
      "_view_count": null,
      "_view_module": "@jupyter-widgets/base",
      "_view_module_version": "1.2.0",
      "_view_name": "LayoutView",
      "align_content": null,
      "align_items": null,
      "align_self": null,
      "border": null,
      "bottom": null,
      "display": null,
      "flex": null,
      "flex_flow": null,
      "grid_area": null,
      "grid_auto_columns": null,
      "grid_auto_flow": null,
      "grid_auto_rows": null,
      "grid_column": null,
      "grid_gap": null,
      "grid_row": null,
      "grid_template_areas": null,
      "grid_template_columns": null,
      "grid_template_rows": null,
      "height": null,
      "justify_content": null,
      "justify_items": null,
      "left": null,
      "margin": null,
      "max_height": null,
      "max_width": null,
      "min_height": null,
      "min_width": null,
      "object_fit": null,
      "object_position": null,
      "order": null,
      "overflow": null,
      "overflow_x": null,
      "overflow_y": null,
      "padding": null,
      "right": null,
      "top": null,
      "visibility": null,
      "width": null
     }
    },
    "b1c1b884032f4fc899fb6dc3336e923f": {
     "model_module": "@jupyter-widgets/controls",
     "model_module_version": "1.5.0",
     "model_name": "DescriptionStyleModel",
     "state": {
      "_model_module": "@jupyter-widgets/controls",
      "_model_module_version": "1.5.0",
      "_model_name": "DescriptionStyleModel",
      "_view_count": null,
      "_view_module": "@jupyter-widgets/base",
      "_view_module_version": "1.2.0",
      "_view_name": "StyleView",
      "description_width": ""
     }
    },
    "b2eb557dc42f465c9181a120c79b440b": {
     "model_module": "@jupyter-widgets/controls",
     "model_module_version": "1.5.0",
     "model_name": "HTMLModel",
     "state": {
      "_dom_classes": [],
      "_model_module": "@jupyter-widgets/controls",
      "_model_module_version": "1.5.0",
      "_model_name": "HTMLModel",
      "_view_count": null,
      "_view_module": "@jupyter-widgets/controls",
      "_view_module_version": "1.5.0",
      "_view_name": "HTMLView",
      "description": "",
      "description_tooltip": null,
      "layout": "IPY_MODEL_88c04a110d2345879baf2444ff2d3b35",
      "placeholder": "​",
      "style": "IPY_MODEL_f28e0d35fa0f4d45a32dd4cd30a9f54a",
      "value": "config.json: 100%"
     }
    },
    "b3d65b9a17bf48ee98ea4772045f7ed7": {
     "model_module": "@jupyter-widgets/controls",
     "model_module_version": "1.5.0",
     "model_name": "FloatProgressModel",
     "state": {
      "_dom_classes": [],
      "_model_module": "@jupyter-widgets/controls",
      "_model_module_version": "1.5.0",
      "_model_name": "FloatProgressModel",
      "_view_count": null,
      "_view_module": "@jupyter-widgets/controls",
      "_view_module_version": "1.5.0",
      "_view_name": "ProgressView",
      "bar_style": "success",
      "description": "",
      "description_tooltip": null,
      "layout": "IPY_MODEL_a2bbcf1696d34cedad9c1ded2a648689",
      "max": 2224041,
      "min": 0,
      "orientation": "horizontal",
      "style": "IPY_MODEL_d73a5ff0407f4752b874265955d649b1",
      "value": 2224041
     }
    },
    "b42a794268974577a292cda281f01302": {
     "model_module": "@jupyter-widgets/base",
     "model_module_version": "1.2.0",
     "model_name": "LayoutModel",
     "state": {
      "_model_module": "@jupyter-widgets/base",
      "_model_module_version": "1.2.0",
      "_model_name": "LayoutModel",
      "_view_count": null,
      "_view_module": "@jupyter-widgets/base",
      "_view_module_version": "1.2.0",
      "_view_name": "LayoutView",
      "align_content": null,
      "align_items": null,
      "align_self": null,
      "border": null,
      "bottom": null,
      "display": null,
      "flex": null,
      "flex_flow": null,
      "grid_area": null,
      "grid_auto_columns": null,
      "grid_auto_flow": null,
      "grid_auto_rows": null,
      "grid_column": null,
      "grid_gap": null,
      "grid_row": null,
      "grid_template_areas": null,
      "grid_template_columns": null,
      "grid_template_rows": null,
      "height": null,
      "justify_content": null,
      "justify_items": null,
      "left": null,
      "margin": null,
      "max_height": null,
      "max_width": null,
      "min_height": null,
      "min_width": null,
      "object_fit": null,
      "object_position": null,
      "order": null,
      "overflow": null,
      "overflow_x": null,
      "overflow_y": null,
      "padding": null,
      "right": null,
      "top": null,
      "visibility": null,
      "width": null
     }
    },
    "b6298812217f4bb290bb4eb3ead7751c": {
     "model_module": "@jupyter-widgets/base",
     "model_module_version": "1.2.0",
     "model_name": "LayoutModel",
     "state": {
      "_model_module": "@jupyter-widgets/base",
      "_model_module_version": "1.2.0",
      "_model_name": "LayoutModel",
      "_view_count": null,
      "_view_module": "@jupyter-widgets/base",
      "_view_module_version": "1.2.0",
      "_view_name": "LayoutView",
      "align_content": null,
      "align_items": null,
      "align_self": null,
      "border": null,
      "bottom": null,
      "display": null,
      "flex": null,
      "flex_flow": null,
      "grid_area": null,
      "grid_auto_columns": null,
      "grid_auto_flow": null,
      "grid_auto_rows": null,
      "grid_column": null,
      "grid_gap": null,
      "grid_row": null,
      "grid_template_areas": null,
      "grid_template_columns": null,
      "grid_template_rows": null,
      "height": null,
      "justify_content": null,
      "justify_items": null,
      "left": null,
      "margin": null,
      "max_height": null,
      "max_width": null,
      "min_height": null,
      "min_width": null,
      "object_fit": null,
      "object_position": null,
      "order": null,
      "overflow": null,
      "overflow_x": null,
      "overflow_y": null,
      "padding": null,
      "right": null,
      "top": null,
      "visibility": null,
      "width": null
     }
    },
    "b9a229513a9449648586a5c81bb106f0": {
     "model_module": "@jupyter-widgets/controls",
     "model_module_version": "1.5.0",
     "model_name": "HBoxModel",
     "state": {
      "_dom_classes": [],
      "_model_module": "@jupyter-widgets/controls",
      "_model_module_version": "1.5.0",
      "_model_name": "HBoxModel",
      "_view_count": null,
      "_view_module": "@jupyter-widgets/controls",
      "_view_module_version": "1.5.0",
      "_view_name": "HBoxView",
      "box_style": "",
      "children": [
       "IPY_MODEL_0fe7b9d616d941e59799f3808a859f10",
       "IPY_MODEL_88313b0109894bfb89eb83c0b21864ec",
       "IPY_MODEL_2842f448ef9845d3904a7a9ad848ff49"
      ],
      "layout": "IPY_MODEL_cc4f57b594a148669fc0a7e0c324ee38"
     }
    },
    "bbf15e94c5f34d268e8aac6425154f47": {
     "model_module": "@jupyter-widgets/controls",
     "model_module_version": "1.5.0",
     "model_name": "DescriptionStyleModel",
     "state": {
      "_model_module": "@jupyter-widgets/controls",
      "_model_module_version": "1.5.0",
      "_model_name": "DescriptionStyleModel",
      "_view_count": null,
      "_view_module": "@jupyter-widgets/base",
      "_view_module_version": "1.2.0",
      "_view_name": "StyleView",
      "description_width": ""
     }
    },
    "bfa80e550490484392a51dfc86ca40aa": {
     "model_module": "@jupyter-widgets/base",
     "model_module_version": "1.2.0",
     "model_name": "LayoutModel",
     "state": {
      "_model_module": "@jupyter-widgets/base",
      "_model_module_version": "1.2.0",
      "_model_name": "LayoutModel",
      "_view_count": null,
      "_view_module": "@jupyter-widgets/base",
      "_view_module_version": "1.2.0",
      "_view_name": "LayoutView",
      "align_content": null,
      "align_items": null,
      "align_self": null,
      "border": null,
      "bottom": null,
      "display": null,
      "flex": null,
      "flex_flow": null,
      "grid_area": null,
      "grid_auto_columns": null,
      "grid_auto_flow": null,
      "grid_auto_rows": null,
      "grid_column": null,
      "grid_gap": null,
      "grid_row": null,
      "grid_template_areas": null,
      "grid_template_columns": null,
      "grid_template_rows": null,
      "height": null,
      "justify_content": null,
      "justify_items": null,
      "left": null,
      "margin": null,
      "max_height": null,
      "max_width": null,
      "min_height": null,
      "min_width": null,
      "object_fit": null,
      "object_position": null,
      "order": null,
      "overflow": null,
      "overflow_x": null,
      "overflow_y": null,
      "padding": null,
      "right": null,
      "top": null,
      "visibility": null,
      "width": null
     }
    },
    "cb8493797d5f4e678487d83a461421e8": {
     "model_module": "@jupyter-widgets/controls",
     "model_module_version": "1.5.0",
     "model_name": "HTMLModel",
     "state": {
      "_dom_classes": [],
      "_model_module": "@jupyter-widgets/controls",
      "_model_module_version": "1.5.0",
      "_model_name": "HTMLModel",
      "_view_count": null,
      "_view_module": "@jupyter-widgets/controls",
      "_view_module_version": "1.5.0",
      "_view_name": "HTMLView",
      "description": "",
      "description_tooltip": null,
      "layout": "IPY_MODEL_1898dcfcd7fd4066be24c8a8f387dc7a",
      "placeholder": "​",
      "style": "IPY_MODEL_88c05b2b6e18471c946d4c445490e07b",
      "value": " 2.22M/2.22M [00:00&lt;00:00, 24.5MB/s]"
     }
    },
    "cc4f57b594a148669fc0a7e0c324ee38": {
     "model_module": "@jupyter-widgets/base",
     "model_module_version": "1.2.0",
     "model_name": "LayoutModel",
     "state": {
      "_model_module": "@jupyter-widgets/base",
      "_model_module_version": "1.2.0",
      "_model_name": "LayoutModel",
      "_view_count": null,
      "_view_module": "@jupyter-widgets/base",
      "_view_module_version": "1.2.0",
      "_view_name": "LayoutView",
      "align_content": null,
      "align_items": null,
      "align_self": null,
      "border": null,
      "bottom": null,
      "display": null,
      "flex": null,
      "flex_flow": null,
      "grid_area": null,
      "grid_auto_columns": null,
      "grid_auto_flow": null,
      "grid_auto_rows": null,
      "grid_column": null,
      "grid_gap": null,
      "grid_row": null,
      "grid_template_areas": null,
      "grid_template_columns": null,
      "grid_template_rows": null,
      "height": null,
      "justify_content": null,
      "justify_items": null,
      "left": null,
      "margin": null,
      "max_height": null,
      "max_width": null,
      "min_height": null,
      "min_width": null,
      "object_fit": null,
      "object_position": null,
      "order": null,
      "overflow": null,
      "overflow_x": null,
      "overflow_y": null,
      "padding": null,
      "right": null,
      "top": null,
      "visibility": null,
      "width": null
     }
    },
    "cc79e82f0eaf4deaaadf2c585a8af282": {
     "model_module": "@jupyter-widgets/controls",
     "model_module_version": "1.5.0",
     "model_name": "DescriptionStyleModel",
     "state": {
      "_model_module": "@jupyter-widgets/controls",
      "_model_module_version": "1.5.0",
      "_model_name": "DescriptionStyleModel",
      "_view_count": null,
      "_view_module": "@jupyter-widgets/base",
      "_view_module_version": "1.2.0",
      "_view_name": "StyleView",
      "description_width": ""
     }
    },
    "d73a5ff0407f4752b874265955d649b1": {
     "model_module": "@jupyter-widgets/controls",
     "model_module_version": "1.5.0",
     "model_name": "ProgressStyleModel",
     "state": {
      "_model_module": "@jupyter-widgets/controls",
      "_model_module_version": "1.5.0",
      "_model_name": "ProgressStyleModel",
      "_view_count": null,
      "_view_module": "@jupyter-widgets/base",
      "_view_module_version": "1.2.0",
      "_view_name": "StyleView",
      "bar_color": null,
      "description_width": ""
     }
    },
    "d76b27586a6649abacb03a0629f124b0": {
     "model_module": "@jupyter-widgets/base",
     "model_module_version": "1.2.0",
     "model_name": "LayoutModel",
     "state": {
      "_model_module": "@jupyter-widgets/base",
      "_model_module_version": "1.2.0",
      "_model_name": "LayoutModel",
      "_view_count": null,
      "_view_module": "@jupyter-widgets/base",
      "_view_module_version": "1.2.0",
      "_view_name": "LayoutView",
      "align_content": null,
      "align_items": null,
      "align_self": null,
      "border": null,
      "bottom": null,
      "display": null,
      "flex": null,
      "flex_flow": null,
      "grid_area": null,
      "grid_auto_columns": null,
      "grid_auto_flow": null,
      "grid_auto_rows": null,
      "grid_column": null,
      "grid_gap": null,
      "grid_row": null,
      "grid_template_areas": null,
      "grid_template_columns": null,
      "grid_template_rows": null,
      "height": null,
      "justify_content": null,
      "justify_items": null,
      "left": null,
      "margin": null,
      "max_height": null,
      "max_width": null,
      "min_height": null,
      "min_width": null,
      "object_fit": null,
      "object_position": null,
      "order": null,
      "overflow": null,
      "overflow_x": null,
      "overflow_y": null,
      "padding": null,
      "right": null,
      "top": null,
      "visibility": null,
      "width": null
     }
    },
    "d7b026f1e79c4f848b9d49d1536691cb": {
     "model_module": "@jupyter-widgets/controls",
     "model_module_version": "1.5.0",
     "model_name": "DescriptionStyleModel",
     "state": {
      "_model_module": "@jupyter-widgets/controls",
      "_model_module_version": "1.5.0",
      "_model_name": "DescriptionStyleModel",
      "_view_count": null,
      "_view_module": "@jupyter-widgets/base",
      "_view_module_version": "1.2.0",
      "_view_name": "StyleView",
      "description_width": ""
     }
    },
    "d81a83a6c9274aaaa9bc5187bff579cf": {
     "model_module": "@jupyter-widgets/base",
     "model_module_version": "1.2.0",
     "model_name": "LayoutModel",
     "state": {
      "_model_module": "@jupyter-widgets/base",
      "_model_module_version": "1.2.0",
      "_model_name": "LayoutModel",
      "_view_count": null,
      "_view_module": "@jupyter-widgets/base",
      "_view_module_version": "1.2.0",
      "_view_name": "LayoutView",
      "align_content": null,
      "align_items": null,
      "align_self": null,
      "border": null,
      "bottom": null,
      "display": null,
      "flex": null,
      "flex_flow": null,
      "grid_area": null,
      "grid_auto_columns": null,
      "grid_auto_flow": null,
      "grid_auto_rows": null,
      "grid_column": null,
      "grid_gap": null,
      "grid_row": null,
      "grid_template_areas": null,
      "grid_template_columns": null,
      "grid_template_rows": null,
      "height": null,
      "justify_content": null,
      "justify_items": null,
      "left": null,
      "margin": null,
      "max_height": null,
      "max_width": null,
      "min_height": null,
      "min_width": null,
      "object_fit": null,
      "object_position": null,
      "order": null,
      "overflow": null,
      "overflow_x": null,
      "overflow_y": null,
      "padding": null,
      "right": null,
      "top": null,
      "visibility": null,
      "width": null
     }
    },
    "da12d0d839ba426e9b3b1073b76ae2d2": {
     "model_module": "@jupyter-widgets/base",
     "model_module_version": "1.2.0",
     "model_name": "LayoutModel",
     "state": {
      "_model_module": "@jupyter-widgets/base",
      "_model_module_version": "1.2.0",
      "_model_name": "LayoutModel",
      "_view_count": null,
      "_view_module": "@jupyter-widgets/base",
      "_view_module_version": "1.2.0",
      "_view_name": "LayoutView",
      "align_content": null,
      "align_items": null,
      "align_self": null,
      "border": null,
      "bottom": null,
      "display": null,
      "flex": null,
      "flex_flow": null,
      "grid_area": null,
      "grid_auto_columns": null,
      "grid_auto_flow": null,
      "grid_auto_rows": null,
      "grid_column": null,
      "grid_gap": null,
      "grid_row": null,
      "grid_template_areas": null,
      "grid_template_columns": null,
      "grid_template_rows": null,
      "height": null,
      "justify_content": null,
      "justify_items": null,
      "left": null,
      "margin": null,
      "max_height": null,
      "max_width": null,
      "min_height": null,
      "min_width": null,
      "object_fit": null,
      "object_position": null,
      "order": null,
      "overflow": null,
      "overflow_x": null,
      "overflow_y": null,
      "padding": null,
      "right": null,
      "top": null,
      "visibility": null,
      "width": null
     }
    },
    "dd9c7f71c12c42a7b4172049a9fa4842": {
     "model_module": "@jupyter-widgets/controls",
     "model_module_version": "1.5.0",
     "model_name": "HTMLModel",
     "state": {
      "_dom_classes": [],
      "_model_module": "@jupyter-widgets/controls",
      "_model_module_version": "1.5.0",
      "_model_name": "HTMLModel",
      "_view_count": null,
      "_view_module": "@jupyter-widgets/controls",
      "_view_module_version": "1.5.0",
      "_view_name": "HTMLView",
      "description": "",
      "description_tooltip": null,
      "layout": "IPY_MODEL_393abac535ad401f9dd4dcaaffde436e",
      "placeholder": "​",
      "style": "IPY_MODEL_f93f0146cf7a47c6ad00e24dbf990d41",
      "value": "preprocessor_config.json: 100%"
     }
    },
    "e1f2f3830d0b44bbbeb52babbd94e961": {
     "model_module": "@jupyter-widgets/base",
     "model_module_version": "1.2.0",
     "model_name": "LayoutModel",
     "state": {
      "_model_module": "@jupyter-widgets/base",
      "_model_module_version": "1.2.0",
      "_model_name": "LayoutModel",
      "_view_count": null,
      "_view_module": "@jupyter-widgets/base",
      "_view_module_version": "1.2.0",
      "_view_name": "LayoutView",
      "align_content": null,
      "align_items": null,
      "align_self": null,
      "border": null,
      "bottom": null,
      "display": null,
      "flex": null,
      "flex_flow": null,
      "grid_area": null,
      "grid_auto_columns": null,
      "grid_auto_flow": null,
      "grid_auto_rows": null,
      "grid_column": null,
      "grid_gap": null,
      "grid_row": null,
      "grid_template_areas": null,
      "grid_template_columns": null,
      "grid_template_rows": null,
      "height": null,
      "justify_content": null,
      "justify_items": null,
      "left": null,
      "margin": null,
      "max_height": null,
      "max_width": null,
      "min_height": null,
      "min_width": null,
      "object_fit": null,
      "object_position": null,
      "order": null,
      "overflow": null,
      "overflow_x": null,
      "overflow_y": null,
      "padding": null,
      "right": null,
      "top": null,
      "visibility": null,
      "width": null
     }
    },
    "e4551b890d1747328862b8dc892e7fb1": {
     "model_module": "@jupyter-widgets/controls",
     "model_module_version": "1.5.0",
     "model_name": "HBoxModel",
     "state": {
      "_dom_classes": [],
      "_model_module": "@jupyter-widgets/controls",
      "_model_module_version": "1.5.0",
      "_model_name": "HBoxModel",
      "_view_count": null,
      "_view_module": "@jupyter-widgets/controls",
      "_view_module_version": "1.5.0",
      "_view_name": "HBoxView",
      "box_style": "",
      "children": [
       "IPY_MODEL_289223715a3d4740909e8d5b75cc54eb",
       "IPY_MODEL_ff4906f791204fa087d32fb9ebee2905",
       "IPY_MODEL_9c00d39e2b5a435f823674ee32ad15df"
      ],
      "layout": "IPY_MODEL_7af46bdfb54f417cb3f1e9e7ee70625e"
     }
    },
    "ec13f93cbfcd4f929335daa593663117": {
     "model_module": "@jupyter-widgets/base",
     "model_module_version": "1.2.0",
     "model_name": "LayoutModel",
     "state": {
      "_model_module": "@jupyter-widgets/base",
      "_model_module_version": "1.2.0",
      "_model_name": "LayoutModel",
      "_view_count": null,
      "_view_module": "@jupyter-widgets/base",
      "_view_module_version": "1.2.0",
      "_view_name": "LayoutView",
      "align_content": null,
      "align_items": null,
      "align_self": null,
      "border": null,
      "bottom": null,
      "display": null,
      "flex": null,
      "flex_flow": null,
      "grid_area": null,
      "grid_auto_columns": null,
      "grid_auto_flow": null,
      "grid_auto_rows": null,
      "grid_column": null,
      "grid_gap": null,
      "grid_row": null,
      "grid_template_areas": null,
      "grid_template_columns": null,
      "grid_template_rows": null,
      "height": null,
      "justify_content": null,
      "justify_items": null,
      "left": null,
      "margin": null,
      "max_height": null,
      "max_width": null,
      "min_height": null,
      "min_width": null,
      "object_fit": null,
      "object_position": null,
      "order": null,
      "overflow": null,
      "overflow_x": null,
      "overflow_y": null,
      "padding": null,
      "right": null,
      "top": null,
      "visibility": null,
      "width": null
     }
    },
    "ed845e7c09db414383d0bf404bba439e": {
     "model_module": "@jupyter-widgets/controls",
     "model_module_version": "1.5.0",
     "model_name": "ProgressStyleModel",
     "state": {
      "_model_module": "@jupyter-widgets/controls",
      "_model_module_version": "1.5.0",
      "_model_name": "ProgressStyleModel",
      "_view_count": null,
      "_view_module": "@jupyter-widgets/base",
      "_view_module_version": "1.2.0",
      "_view_name": "StyleView",
      "bar_color": null,
      "description_width": ""
     }
    },
    "f28e0d35fa0f4d45a32dd4cd30a9f54a": {
     "model_module": "@jupyter-widgets/controls",
     "model_module_version": "1.5.0",
     "model_name": "DescriptionStyleModel",
     "state": {
      "_model_module": "@jupyter-widgets/controls",
      "_model_module_version": "1.5.0",
      "_model_name": "DescriptionStyleModel",
      "_view_count": null,
      "_view_module": "@jupyter-widgets/base",
      "_view_module_version": "1.2.0",
      "_view_name": "StyleView",
      "description_width": ""
     }
    },
    "f2c8e2473508490d8cfb6da96e50ed77": {
     "model_module": "@jupyter-widgets/controls",
     "model_module_version": "1.5.0",
     "model_name": "DescriptionStyleModel",
     "state": {
      "_model_module": "@jupyter-widgets/controls",
      "_model_module_version": "1.5.0",
      "_model_name": "DescriptionStyleModel",
      "_view_count": null,
      "_view_module": "@jupyter-widgets/base",
      "_view_module_version": "1.2.0",
      "_view_name": "StyleView",
      "description_width": ""
     }
    },
    "f32bc5e2aa5944b99d38a9528bed3644": {
     "model_module": "@jupyter-widgets/controls",
     "model_module_version": "1.5.0",
     "model_name": "HTMLModel",
     "state": {
      "_dom_classes": [],
      "_model_module": "@jupyter-widgets/controls",
      "_model_module_version": "1.5.0",
      "_model_name": "HTMLModel",
      "_view_count": null,
      "_view_module": "@jupyter-widgets/controls",
      "_view_module_version": "1.5.0",
      "_view_name": "HTMLView",
      "description": "",
      "description_tooltip": null,
      "layout": "IPY_MODEL_2baff52171e44a31a4f545adcf263c73",
      "placeholder": "​",
      "style": "IPY_MODEL_bbf15e94c5f34d268e8aac6425154f47",
      "value": " 316/316 [00:00&lt;00:00, 10.6kB/s]"
     }
    },
    "f7ea0cc66733435eb2a7299a72a2bb7d": {
     "model_module": "@jupyter-widgets/controls",
     "model_module_version": "1.5.0",
     "model_name": "ProgressStyleModel",
     "state": {
      "_model_module": "@jupyter-widgets/controls",
      "_model_module_version": "1.5.0",
      "_model_name": "ProgressStyleModel",
      "_view_count": null,
      "_view_module": "@jupyter-widgets/base",
      "_view_module_version": "1.2.0",
      "_view_name": "StyleView",
      "bar_color": null,
      "description_width": ""
     }
    },
    "f8554067899d411c9eaa606c88360b66": {
     "model_module": "@jupyter-widgets/base",
     "model_module_version": "1.2.0",
     "model_name": "LayoutModel",
     "state": {
      "_model_module": "@jupyter-widgets/base",
      "_model_module_version": "1.2.0",
      "_model_name": "LayoutModel",
      "_view_count": null,
      "_view_module": "@jupyter-widgets/base",
      "_view_module_version": "1.2.0",
      "_view_name": "LayoutView",
      "align_content": null,
      "align_items": null,
      "align_self": null,
      "border": null,
      "bottom": null,
      "display": null,
      "flex": null,
      "flex_flow": null,
      "grid_area": null,
      "grid_auto_columns": null,
      "grid_auto_flow": null,
      "grid_auto_rows": null,
      "grid_column": null,
      "grid_gap": null,
      "grid_row": null,
      "grid_template_areas": null,
      "grid_template_columns": null,
      "grid_template_rows": null,
      "height": null,
      "justify_content": null,
      "justify_items": null,
      "left": null,
      "margin": null,
      "max_height": null,
      "max_width": null,
      "min_height": null,
      "min_width": null,
      "object_fit": null,
      "object_position": null,
      "order": null,
      "overflow": null,
      "overflow_x": null,
      "overflow_y": null,
      "padding": null,
      "right": null,
      "top": null,
      "visibility": null,
      "width": null
     }
    },
    "f93f0146cf7a47c6ad00e24dbf990d41": {
     "model_module": "@jupyter-widgets/controls",
     "model_module_version": "1.5.0",
     "model_name": "DescriptionStyleModel",
     "state": {
      "_model_module": "@jupyter-widgets/controls",
      "_model_module_version": "1.5.0",
      "_model_name": "DescriptionStyleModel",
      "_view_count": null,
      "_view_module": "@jupyter-widgets/base",
      "_view_module_version": "1.2.0",
      "_view_name": "StyleView",
      "description_width": ""
     }
    },
    "fae433b4ea404ad2bdf09c2ba629f28b": {
     "model_module": "@jupyter-widgets/controls",
     "model_module_version": "1.5.0",
     "model_name": "HTMLModel",
     "state": {
      "_dom_classes": [],
      "_model_module": "@jupyter-widgets/controls",
      "_model_module_version": "1.5.0",
      "_model_name": "HTMLModel",
      "_view_count": null,
      "_view_module": "@jupyter-widgets/controls",
      "_view_module_version": "1.5.0",
      "_view_name": "HTMLView",
      "description": "",
      "description_tooltip": null,
      "layout": "IPY_MODEL_ab6b6445fda5431fa6a4b0527be1332a",
      "placeholder": "​",
      "style": "IPY_MODEL_cc79e82f0eaf4deaaadf2c585a8af282",
      "value": "vocab.json: 100%"
     }
    },
    "fcec47531b4b4c8d99493d893909e9e3": {
     "model_module": "@jupyter-widgets/controls",
     "model_module_version": "1.5.0",
     "model_name": "DescriptionStyleModel",
     "state": {
      "_model_module": "@jupyter-widgets/controls",
      "_model_module_version": "1.5.0",
      "_model_name": "DescriptionStyleModel",
      "_view_count": null,
      "_view_module": "@jupyter-widgets/base",
      "_view_module_version": "1.2.0",
      "_view_name": "StyleView",
      "description_width": ""
     }
    },
    "ff4906f791204fa087d32fb9ebee2905": {
     "model_module": "@jupyter-widgets/controls",
     "model_module_version": "1.5.0",
     "model_name": "FloatProgressModel",
     "state": {
      "_dom_classes": [],
      "_model_module": "@jupyter-widgets/controls",
      "_model_module_version": "1.5.0",
      "_model_name": "FloatProgressModel",
      "_view_count": null,
      "_view_module": "@jupyter-widgets/controls",
      "_view_module_version": "1.5.0",
      "_view_name": "ProgressView",
      "bar_style": "success",
      "description": "",
      "description_tooltip": null,
      "layout": "IPY_MODEL_d76b27586a6649abacb03a0629f124b0",
      "max": 592,
      "min": 0,
      "orientation": "horizontal",
      "style": "IPY_MODEL_9f9648c9eb7a46cabdc3c1ee25b80c4a",
      "value": 592
     }
    }
   }
  }
 },
 "nbformat": 4,
 "nbformat_minor": 4
}
